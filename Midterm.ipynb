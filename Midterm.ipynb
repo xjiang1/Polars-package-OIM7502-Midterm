{
 "cells": [
  {
   "cell_type": "code",
   "execution_count": 1,
   "id": "c700eeb7",
   "metadata": {},
   "outputs": [
    {
     "data": {
      "text/plain": [
       "'Name: Yvonne Jiang\\nLibrary: Polars\\nURL: https://github.com/xjiang1/Polars-package-OIM7502-Midterm.git\\nDescription:\\nPolars is a DataFrame library to manipulate structured data.'"
      ]
     },
     "execution_count": 1,
     "metadata": {},
     "output_type": "execute_result"
    }
   ],
   "source": [
    "\"\"\"Name: Yvonne Jiang\n",
    "Library: Polars\n",
    "URL: https://github.com/xjiang1/Polars-package-OIM7502-Midterm.git\n",
    "Description:\n",
    "Polars is a DataFrame library to manipulate structured data.\"\"\""
   ]
  },
  {
   "cell_type": "markdown",
   "id": "1e1c6d93",
   "metadata": {},
   "source": [
    "# 1) Install & Import Polars"
   ]
  },
  {
   "cell_type": "code",
   "execution_count": 2,
   "id": "65d45fc6",
   "metadata": {
    "scrolled": true
   },
   "outputs": [
    {
     "name": "stdout",
     "output_type": "stream",
     "text": [
      "Note: you may need to restart the kernel to use updated packages.Requirement already satisfied: polars in c:\\users\\yvonn\\anaconda3\\lib\\site-packages (0.20.10)\n",
      "\n"
     ]
    }
   ],
   "source": [
    "pip install polars"
   ]
  },
  {
   "cell_type": "code",
   "execution_count": 3,
   "id": "3c774a6b",
   "metadata": {
    "scrolled": true
   },
   "outputs": [],
   "source": [
    "import polars as pl"
   ]
  },
  {
   "cell_type": "markdown",
   "id": "4c393cc5",
   "metadata": {},
   "source": [
    "# 2) Reading & writing"
   ]
  },
  {
   "cell_type": "markdown",
   "id": "98e36ec6",
   "metadata": {},
   "source": [
    "### Create Dataframe with different types of data types"
   ]
  },
  {
   "cell_type": "code",
   "execution_count": 4,
   "id": "2bc5cf3a",
   "metadata": {},
   "outputs": [
    {
     "name": "stdout",
     "output_type": "stream",
     "text": [
      "shape: (3, 4)\n",
      "┌─────────┬─────────────────────┬───────┬────────┐\n",
      "│ integer ┆ date                ┆ float ┆ string │\n",
      "│ ---     ┆ ---                 ┆ ---   ┆ ---    │\n",
      "│ i64     ┆ datetime[μs]        ┆ f64   ┆ str    │\n",
      "╞═════════╪═════════════════════╪═══════╪════════╡\n",
      "│ 1       ┆ 2025-01-01 00:00:00 ┆ 4.0   ┆ a      │\n",
      "│ 2       ┆ 2025-01-02 00:00:00 ┆ 5.0   ┆ b      │\n",
      "│ 3       ┆ 2025-01-03 00:00:00 ┆ 6.0   ┆ c      │\n",
      "└─────────┴─────────────────────┴───────┴────────┘\n"
     ]
    }
   ],
   "source": [
    "#import the \"datetime\" library to create the data type of date and times\n",
    "from datetime import datetime\n",
    "\n",
    "df = pl.DataFrame(\n",
    "    {\n",
    "        \"integer\": [1, 2, 3],\n",
    "        \"date\": [\n",
    "            datetime(2025, 1, 1),\n",
    "            datetime(2025, 1, 2),\n",
    "            datetime(2025, 1, 3),\n",
    "        ],\n",
    "        \"float\": [4.0, 5.0, 6.0],\n",
    "        \"string\": [\"a\", \"b\", \"c\"],\n",
    "    }\n",
    ")\n",
    "\n",
    "print(df)"
   ]
  },
  {
   "cell_type": "markdown",
   "id": "78c805bd",
   "metadata": {},
   "source": [
    "### Write the dateframe into a **csv** file"
   ]
  },
  {
   "cell_type": "code",
   "execution_count": 5,
   "id": "4318c020",
   "metadata": {},
   "outputs": [],
   "source": [
    "df.write_csv(\"data/output.csv\")  #replace the file location with your location"
   ]
  },
  {
   "cell_type": "markdown",
   "id": "aefad68d",
   "metadata": {},
   "source": [
    "### Read the **csv** file into a dataframe"
   ]
  },
  {
   "cell_type": "code",
   "execution_count": 6,
   "id": "b9d9395b",
   "metadata": {},
   "outputs": [
    {
     "data": {
      "text/html": [
       "<div><style>\n",
       ".dataframe > thead > tr,\n",
       ".dataframe > tbody > tr {\n",
       "  text-align: right;\n",
       "  white-space: pre-wrap;\n",
       "}\n",
       "</style>\n",
       "<small>shape: (3, 4)</small><table border=\"1\" class=\"dataframe\"><thead><tr><th>integer</th><th>date</th><th>float</th><th>string</th></tr><tr><td>i64</td><td>str</td><td>f64</td><td>str</td></tr></thead><tbody><tr><td>1</td><td>&quot;2025-01-01T00:…</td><td>4.0</td><td>&quot;a&quot;</td></tr><tr><td>2</td><td>&quot;2025-01-02T00:…</td><td>5.0</td><td>&quot;b&quot;</td></tr><tr><td>3</td><td>&quot;2025-01-03T00:…</td><td>6.0</td><td>&quot;c&quot;</td></tr></tbody></table></div>"
      ],
      "text/plain": [
       "shape: (3, 4)\n",
       "┌─────────┬────────────────────────────┬───────┬────────┐\n",
       "│ integer ┆ date                       ┆ float ┆ string │\n",
       "│ ---     ┆ ---                        ┆ ---   ┆ ---    │\n",
       "│ i64     ┆ str                        ┆ f64   ┆ str    │\n",
       "╞═════════╪════════════════════════════╪═══════╪════════╡\n",
       "│ 1       ┆ 2025-01-01T00:00:00.000000 ┆ 4.0   ┆ a      │\n",
       "│ 2       ┆ 2025-01-02T00:00:00.000000 ┆ 5.0   ┆ b      │\n",
       "│ 3       ┆ 2025-01-03T00:00:00.000000 ┆ 6.0   ┆ c      │\n",
       "└─────────┴────────────────────────────┴───────┴────────┘"
      ]
     },
     "execution_count": 6,
     "metadata": {},
     "output_type": "execute_result"
    }
   ],
   "source": [
    "df_csv = pl.read_csv(\"data/output.csv\")  #replace the file location with your location\n",
    "df_csv"
   ]
  },
  {
   "cell_type": "markdown",
   "id": "d4223961",
   "metadata": {},
   "source": [
    "### Write the dataframe into an **Excel** file"
   ]
  },
  {
   "cell_type": "code",
   "execution_count": 7,
   "id": "67d04e66",
   "metadata": {},
   "outputs": [],
   "source": [
    "#Polars does not have a native Excel reader. \n",
    "#Thus, it is needed to download the following external libraries"
   ]
  },
  {
   "cell_type": "code",
   "execution_count": 8,
   "id": "dbc3732f",
   "metadata": {},
   "outputs": [
    {
     "name": "stdout",
     "output_type": "stream",
     "text": [
      "Requirement already satisfied: xlsx2csv in c:\\users\\yvonn\\anaconda3\\lib\\site-packages (0.8.2)\n",
      "Note: you may need to restart the kernel to use updated packages.\n"
     ]
    }
   ],
   "source": [
    "pip install xlsx2csv"
   ]
  },
  {
   "cell_type": "code",
   "execution_count": 9,
   "id": "619256c6",
   "metadata": {},
   "outputs": [
    {
     "name": "stdout",
     "output_type": "stream",
     "text": [
      "Requirement already satisfied: xlsxwriter in c:\\users\\yvonn\\anaconda3\\lib\\site-packages (3.2.0)\n",
      "Note: you may need to restart the kernel to use updated packages.\n"
     ]
    }
   ],
   "source": [
    "pip install xlsxwriter"
   ]
  },
  {
   "cell_type": "code",
   "execution_count": 10,
   "id": "bd9889e7",
   "metadata": {
    "scrolled": true
   },
   "outputs": [
    {
     "data": {
      "text/plain": [
       "<xlsxwriter.workbook.Workbook at 0x1e34b310110>"
      ]
     },
     "execution_count": 10,
     "metadata": {},
     "output_type": "execute_result"
    }
   ],
   "source": [
    "#User workbook=\" \" to define the file path\n",
    "df.write_excel(workbook = \"data/output.xlxs\")  #replace the file location with your location\n",
    "\n",
    "#for more parameters, check https://docs.pola.rs/py-polars/html/reference/api/polars.DataFrame.write_excel.html"
   ]
  },
  {
   "cell_type": "markdown",
   "id": "b8506aba",
   "metadata": {},
   "source": [
    "### Read the **Excel** file into a dataframe"
   ]
  },
  {
   "cell_type": "code",
   "execution_count": 11,
   "id": "73c12452",
   "metadata": {},
   "outputs": [
    {
     "data": {
      "text/html": [
       "<div><style>\n",
       ".dataframe > thead > tr,\n",
       ".dataframe > tbody > tr {\n",
       "  text-align: right;\n",
       "  white-space: pre-wrap;\n",
       "}\n",
       "</style>\n",
       "<small>shape: (3, 4)</small><table border=\"1\" class=\"dataframe\"><thead><tr><th>integer</th><th>date</th><th>float</th><th>string</th></tr><tr><td>i64</td><td>str</td><td>i64</td><td>str</td></tr></thead><tbody><tr><td>1</td><td>&quot;2025-01-01 00:…</td><td>4</td><td>&quot;a&quot;</td></tr><tr><td>2</td><td>&quot;2025-01-02 00:…</td><td>5</td><td>&quot;b&quot;</td></tr><tr><td>3</td><td>&quot;2025-01-03 00:…</td><td>6</td><td>&quot;c&quot;</td></tr></tbody></table></div>"
      ],
      "text/plain": [
       "shape: (3, 4)\n",
       "┌─────────┬─────────────────────┬───────┬────────┐\n",
       "│ integer ┆ date                ┆ float ┆ string │\n",
       "│ ---     ┆ ---                 ┆ ---   ┆ ---    │\n",
       "│ i64     ┆ str                 ┆ i64   ┆ str    │\n",
       "╞═════════╪═════════════════════╪═══════╪════════╡\n",
       "│ 1       ┆ 2025-01-01 00:00:00 ┆ 4     ┆ a      │\n",
       "│ 2       ┆ 2025-01-02 00:00:00 ┆ 5     ┆ b      │\n",
       "│ 3       ┆ 2025-01-03 00:00:00 ┆ 6     ┆ c      │\n",
       "└─────────┴─────────────────────┴───────┴────────┘"
      ]
     },
     "execution_count": 11,
     "metadata": {},
     "output_type": "execute_result"
    }
   ],
   "source": [
    "df_excel = pl.read_excel(source = \"data/output.xlxs\")  #replace the file location with your location\n",
    "df_excel"
   ]
  },
  {
   "cell_type": "markdown",
   "id": "71cfd185",
   "metadata": {},
   "source": [
    "### Write & Read other common data sources file into a dataframe"
   ]
  },
  {
   "cell_type": "code",
   "execution_count": 12,
   "id": "ac2f8614",
   "metadata": {},
   "outputs": [
    {
     "data": {
      "text/html": [
       "<div><style>\n",
       ".dataframe > thead > tr,\n",
       ".dataframe > tbody > tr {\n",
       "  text-align: right;\n",
       "  white-space: pre-wrap;\n",
       "}\n",
       "</style>\n",
       "<small>shape: (3, 4)</small><table border=\"1\" class=\"dataframe\"><thead><tr><th>integer</th><th>date</th><th>float</th><th>string</th></tr><tr><td>i64</td><td>datetime[μs]</td><td>f64</td><td>str</td></tr></thead><tbody><tr><td>1</td><td>2025-01-01 00:00:00</td><td>4.0</td><td>&quot;a&quot;</td></tr><tr><td>2</td><td>2025-01-02 00:00:00</td><td>5.0</td><td>&quot;b&quot;</td></tr><tr><td>3</td><td>2025-01-03 00:00:00</td><td>6.0</td><td>&quot;c&quot;</td></tr></tbody></table></div>"
      ],
      "text/plain": [
       "shape: (3, 4)\n",
       "┌─────────┬─────────────────────┬───────┬────────┐\n",
       "│ integer ┆ date                ┆ float ┆ string │\n",
       "│ ---     ┆ ---                 ┆ ---   ┆ ---    │\n",
       "│ i64     ┆ datetime[μs]        ┆ f64   ┆ str    │\n",
       "╞═════════╪═════════════════════╪═══════╪════════╡\n",
       "│ 1       ┆ 2025-01-01 00:00:00 ┆ 4.0   ┆ a      │\n",
       "│ 2       ┆ 2025-01-02 00:00:00 ┆ 5.0   ┆ b      │\n",
       "│ 3       ┆ 2025-01-03 00:00:00 ┆ 6.0   ┆ c      │\n",
       "└─────────┴─────────────────────┴───────┴────────┘"
      ]
     },
     "execution_count": 12,
     "metadata": {},
     "output_type": "execute_result"
    }
   ],
   "source": [
    "#Write Parquet\n",
    "df.write_parquet(\"data/output.parquet\")  #replace the file location with your location\n",
    "\n",
    "#Read Parquet\n",
    "df_parquest = pl.read_parquet(\"data/output.parquet\")  #replace the file location with your location\n",
    "df_parquest"
   ]
  },
  {
   "cell_type": "code",
   "execution_count": 13,
   "id": "10d11b94",
   "metadata": {},
   "outputs": [
    {
     "data": {
      "text/html": [
       "<div><style>\n",
       ".dataframe > thead > tr,\n",
       ".dataframe > tbody > tr {\n",
       "  text-align: right;\n",
       "  white-space: pre-wrap;\n",
       "}\n",
       "</style>\n",
       "<small>shape: (1, 1)</small><table border=\"1\" class=\"dataframe\"><thead><tr><th>columns</th></tr><tr><td>list[struct[4]]</td></tr></thead><tbody><tr><td>[{&quot;string&quot;,&quot;String&quot;,&quot;&quot;,[&quot;a&quot;, &quot;b&quot;, … &quot;d&quot;]}]</td></tr></tbody></table></div>"
      ],
      "text/plain": [
       "shape: (1, 1)\n",
       "┌───────────────────────────────────┐\n",
       "│ columns                           │\n",
       "│ ---                               │\n",
       "│ list[struct[4]]                   │\n",
       "╞═══════════════════════════════════╡\n",
       "│ [{\"string\",\"String\",\"\",[\"a\", \"b\"… │\n",
       "└───────────────────────────────────┘"
      ]
     },
     "execution_count": 13,
     "metadata": {},
     "output_type": "execute_result"
    }
   ],
   "source": [
    "#Write JSON\n",
    "df_json = pl.DataFrame({\"string\": [\"a\", \"b\", \"c\", \"d\"]}) #JSON is a text_based format so we create a dataframe with only string\n",
    "df_json.write_json(\"data/output.json\")  #replace the file location with your location\n",
    "\n",
    "#Read JSON\n",
    "df_json = pl.read_ndjson(\"data/output.json\")  #replace the file location with your location\n",
    "df_json"
   ]
  },
  {
   "cell_type": "markdown",
   "id": "b94e0f2e",
   "metadata": {},
   "source": [
    "# 3) Check Data Dictionary"
   ]
  },
  {
   "cell_type": "code",
   "execution_count": 14,
   "id": "204c003e",
   "metadata": {},
   "outputs": [
    {
     "data": {
      "text/plain": [
       "OrderedDict([('integer', Int64),\n",
       "             ('date', Datetime(time_unit='us', time_zone=None)),\n",
       "             ('float', Float64),\n",
       "             ('string', String)])"
      ]
     },
     "execution_count": 14,
     "metadata": {},
     "output_type": "execute_result"
    }
   ],
   "source": [
    "df.schema"
   ]
  },
  {
   "cell_type": "markdown",
   "id": "558da01a",
   "metadata": {},
   "source": [
    "# 4) Combining Dataframes\n",
    "##### Polars has two ways to combine dataframes"
   ]
  },
  {
   "cell_type": "markdown",
   "id": "434a366d",
   "metadata": {},
   "source": [
    "### Join\n",
    "##### There are many different types of join: inner, left, outer, cross, semi, anti"
   ]
  },
  {
   "cell_type": "code",
   "execution_count": 15,
   "id": "f02744fe",
   "metadata": {
    "scrolled": true
   },
   "outputs": [
    {
     "name": "stdout",
     "output_type": "stream",
     "text": [
      "---Inner Joined---\n",
      "shape: (5, 9)\n",
      "┌────────────┬──────────────┬─────────────┬─────────┬───┬─────┬─────────┬──────────────┬───────────┐\n",
      "│ Product_ID ┆ Product_name ┆ Category    ┆ Price   ┆ … ┆ id  ┆ name    ┆ Purchased_Pr ┆ City      │\n",
      "│ ---        ┆ ---          ┆ ---         ┆ ---     ┆   ┆ --- ┆ ---     ┆ oduct        ┆ ---       │\n",
      "│ i64        ┆ str          ┆ str         ┆ f64     ┆   ┆ i64 ┆ str     ┆ ---          ┆ str       │\n",
      "│            ┆              ┆             ┆         ┆   ┆     ┆         ┆ str          ┆           │\n",
      "╞════════════╪══════════════╪═════════════╪═════════╪═══╪═════╪═════════╪══════════════╪═══════════╡\n",
      "│ 101        ┆ Watch        ┆ Fashion     ┆ 299.0   ┆ … ┆ 1   ┆ Olivia  ┆ Watch        ┆ Mumbai    │\n",
      "│ 106        ┆ Oil          ┆ Grocery     ┆ 110.0   ┆ … ┆ 3   ┆ Cory    ┆ Oil          ┆ Bangalore │\n",
      "│ 103        ┆ Shoes        ┆ Fashion     ┆ 2999.0  ┆ … ┆ 5   ┆ Dominic ┆ Shoes        ┆ Chennai   │\n",
      "│ 104        ┆ Smartphone   ┆ Electronics ┆ 14999.0 ┆ … ┆ 6   ┆ Tyler   ┆ Smartphone   ┆ Delhi     │\n",
      "│ 107        ┆ Laptop       ┆ Electronics ┆ 79999.0 ┆ … ┆ 9   ┆ Jeremy  ┆ Laptop       ┆ Mumbai    │\n",
      "└────────────┴──────────────┴─────────────┴─────────┴───┴─────┴─────────┴──────────────┴───────────┘\n",
      "---Left Joined---\n",
      "shape: (7, 9)\n",
      "┌────────────┬──────────────┬─────────────┬─────────┬───┬──────┬─────────┬─────────────┬───────────┐\n",
      "│ Product_ID ┆ Product_name ┆ Category    ┆ Price   ┆ … ┆ id   ┆ name    ┆ Purchased_P ┆ City      │\n",
      "│ ---        ┆ ---          ┆ ---         ┆ ---     ┆   ┆ ---  ┆ ---     ┆ roduct      ┆ ---       │\n",
      "│ i64        ┆ str          ┆ str         ┆ f64     ┆   ┆ i64  ┆ str     ┆ ---         ┆ str       │\n",
      "│            ┆              ┆             ┆         ┆   ┆      ┆         ┆ str         ┆           │\n",
      "╞════════════╪══════════════╪═════════════╪═════════╪═══╪══════╪═════════╪═════════════╪═══════════╡\n",
      "│ 101        ┆ Watch        ┆ Fashion     ┆ 299.0   ┆ … ┆ 1    ┆ Olivia  ┆ Watch       ┆ Mumbai    │\n",
      "│ 102        ┆ Bag          ┆ Fashion     ┆ 1350.5  ┆ … ┆ null ┆ null    ┆ null        ┆ null      │\n",
      "│ 103        ┆ Shoes        ┆ Fashion     ┆ 2999.0  ┆ … ┆ 5    ┆ Dominic ┆ Shoes       ┆ Chennai   │\n",
      "│ 104        ┆ Smartphone   ┆ Electronics ┆ 14999.0 ┆ … ┆ 6    ┆ Tyler   ┆ Smartphone  ┆ Delhi     │\n",
      "│ 105        ┆ Books        ┆ Study       ┆ 145.0   ┆ … ┆ null ┆ null    ┆ null        ┆ null      │\n",
      "│ 106        ┆ Oil          ┆ Grocery     ┆ 110.0   ┆ … ┆ 3    ┆ Cory    ┆ Oil         ┆ Bangalore │\n",
      "│ 107        ┆ Laptop       ┆ Electronics ┆ 79999.0 ┆ … ┆ 9    ┆ Jeremy  ┆ Laptop      ┆ Mumbai    │\n",
      "└────────────┴──────────────┴─────────────┴─────────┴───┴──────┴─────────┴─────────────┴───────────┘\n",
      "---Outer Joined---\n",
      "shape: (11, 10)\n",
      "┌────────────┬────────────┬────────────┬─────────┬───┬─────────┬───────────┬───────────┬───────────┐\n",
      "│ Product_ID ┆ Product_na ┆ Category   ┆ Price   ┆ … ┆ name    ┆ Product_I ┆ Purchased ┆ City      │\n",
      "│ ---        ┆ me         ┆ ---        ┆ ---     ┆   ┆ ---     ┆ D_right   ┆ _Product  ┆ ---       │\n",
      "│ i64        ┆ ---        ┆ str        ┆ f64     ┆   ┆ str     ┆ ---       ┆ ---       ┆ str       │\n",
      "│            ┆ str        ┆            ┆         ┆   ┆         ┆ i64       ┆ str       ┆           │\n",
      "╞════════════╪════════════╪════════════╪═════════╪═══╪═════════╪═══════════╪═══════════╪═══════════╡\n",
      "│ 101        ┆ Watch      ┆ Fashion    ┆ 299.0   ┆ … ┆ Olivia  ┆ 101       ┆ Watch     ┆ Mumbai    │\n",
      "│ null       ┆ null       ┆ null       ┆ null    ┆ … ┆ Aditya  ┆ 0         ┆ NA        ┆ Delhi     │\n",
      "│ 106        ┆ Oil        ┆ Grocery    ┆ 110.0   ┆ … ┆ Cory    ┆ 106       ┆ Oil       ┆ Bangalore │\n",
      "│ null       ┆ null       ┆ null       ┆ null    ┆ … ┆ Isabell ┆ 0         ┆ NA        ┆ Chennai   │\n",
      "│ 103        ┆ Shoes      ┆ Fashion    ┆ 2999.0  ┆ … ┆ Dominic ┆ 103       ┆ Shoes     ┆ Chennai   │\n",
      "│ 104        ┆ Smartphone ┆ Electronic ┆ 14999.0 ┆ … ┆ Tyler   ┆ 104       ┆ Smartphon ┆ Delhi     │\n",
      "│            ┆            ┆ s          ┆         ┆   ┆         ┆           ┆ e         ┆           │\n",
      "│ null       ┆ null       ┆ null       ┆ null    ┆ … ┆ Samuel  ┆ 0         ┆ NA        ┆ Kolkata   │\n",
      "│ null       ┆ null       ┆ null       ┆ null    ┆ … ┆ Daniel  ┆ 0         ┆ NA        ┆ Delhi     │\n",
      "│ 107        ┆ Laptop     ┆ Electronic ┆ 79999.0 ┆ … ┆ Jeremy  ┆ 107       ┆ Laptop    ┆ Mumbai    │\n",
      "│            ┆            ┆ s          ┆         ┆   ┆         ┆           ┆           ┆           │\n",
      "│ 105        ┆ Books      ┆ Study      ┆ 145.0   ┆ … ┆ null    ┆ null      ┆ null      ┆ null      │\n",
      "│ 102        ┆ Bag        ┆ Fashion    ┆ 1350.5  ┆ … ┆ null    ┆ null      ┆ null      ┆ null      │\n",
      "└────────────┴────────────┴────────────┴─────────┴───┴─────────┴───────────┴───────────┴───────────┘\n",
      "---Cross Joined---\n",
      "shape: (63, 10)\n",
      "┌────────────┬────────────┬────────────┬─────────┬───┬─────────┬───────────┬───────────┬───────────┐\n",
      "│ Product_ID ┆ Product_na ┆ Category   ┆ Price   ┆ … ┆ name    ┆ Product_I ┆ Purchased ┆ City      │\n",
      "│ ---        ┆ me         ┆ ---        ┆ ---     ┆   ┆ ---     ┆ D_right   ┆ _Product  ┆ ---       │\n",
      "│ i64        ┆ ---        ┆ str        ┆ f64     ┆   ┆ str     ┆ ---       ┆ ---       ┆ str       │\n",
      "│            ┆ str        ┆            ┆         ┆   ┆         ┆ i64       ┆ str       ┆           │\n",
      "╞════════════╪════════════╪════════════╪═════════╪═══╪═════════╪═══════════╪═══════════╪═══════════╡\n",
      "│ 101        ┆ Watch      ┆ Fashion    ┆ 299.0   ┆ … ┆ Olivia  ┆ 101       ┆ Watch     ┆ Mumbai    │\n",
      "│ 101        ┆ Watch      ┆ Fashion    ┆ 299.0   ┆ … ┆ Aditya  ┆ 0         ┆ NA        ┆ Delhi     │\n",
      "│ 101        ┆ Watch      ┆ Fashion    ┆ 299.0   ┆ … ┆ Cory    ┆ 106       ┆ Oil       ┆ Bangalore │\n",
      "│ 101        ┆ Watch      ┆ Fashion    ┆ 299.0   ┆ … ┆ Isabell ┆ 0         ┆ NA        ┆ Chennai   │\n",
      "│ 101        ┆ Watch      ┆ Fashion    ┆ 299.0   ┆ … ┆ Dominic ┆ 103       ┆ Shoes     ┆ Chennai   │\n",
      "│ …          ┆ …          ┆ …          ┆ …       ┆ … ┆ …       ┆ …         ┆ …         ┆ …         │\n",
      "│ 107        ┆ Laptop     ┆ Electronic ┆ 79999.0 ┆ … ┆ Dominic ┆ 103       ┆ Shoes     ┆ Chennai   │\n",
      "│            ┆            ┆ s          ┆         ┆   ┆         ┆           ┆           ┆           │\n",
      "│ 107        ┆ Laptop     ┆ Electronic ┆ 79999.0 ┆ … ┆ Tyler   ┆ 104       ┆ Smartphon ┆ Delhi     │\n",
      "│            ┆            ┆ s          ┆         ┆   ┆         ┆           ┆ e         ┆           │\n",
      "│ 107        ┆ Laptop     ┆ Electronic ┆ 79999.0 ┆ … ┆ Samuel  ┆ 0         ┆ NA        ┆ Kolkata   │\n",
      "│            ┆            ┆ s          ┆         ┆   ┆         ┆           ┆           ┆           │\n",
      "│ 107        ┆ Laptop     ┆ Electronic ┆ 79999.0 ┆ … ┆ Daniel  ┆ 0         ┆ NA        ┆ Delhi     │\n",
      "│            ┆            ┆ s          ┆         ┆   ┆         ┆           ┆           ┆           │\n",
      "│ 107        ┆ Laptop     ┆ Electronic ┆ 79999.0 ┆ … ┆ Jeremy  ┆ 107       ┆ Laptop    ┆ Mumbai    │\n",
      "│            ┆            ┆ s          ┆         ┆   ┆         ┆           ┆           ┆           │\n",
      "└────────────┴────────────┴────────────┴─────────┴───┴─────────┴───────────┴───────────┴───────────┘\n",
      "---Semi Joined---\n",
      "shape: (5, 5)\n",
      "┌────────────┬──────────────┬─────────────┬─────────┬─────────────┐\n",
      "│ Product_ID ┆ Product_name ┆ Category    ┆ Price   ┆ Seller_City │\n",
      "│ ---        ┆ ---          ┆ ---         ┆ ---     ┆ ---         │\n",
      "│ i64        ┆ str          ┆ str         ┆ f64     ┆ str         │\n",
      "╞════════════╪══════════════╪═════════════╪═════════╪═════════════╡\n",
      "│ 101        ┆ Watch        ┆ Fashion     ┆ 299.0   ┆ Delhi       │\n",
      "│ 103        ┆ Shoes        ┆ Fashion     ┆ 2999.0  ┆ Chennai     │\n",
      "│ 104        ┆ Smartphone   ┆ Electronics ┆ 14999.0 ┆ Kolkata     │\n",
      "│ 106        ┆ Oil          ┆ Grocery     ┆ 110.0   ┆ Chennai     │\n",
      "│ 107        ┆ Laptop       ┆ Electronics ┆ 79999.0 ┆ Bengalore   │\n",
      "└────────────┴──────────────┴─────────────┴─────────┴─────────────┘\n",
      "---Anti Joined---\n",
      "shape: (2, 5)\n",
      "┌────────────┬──────────────┬──────────┬────────┬─────────────┐\n",
      "│ Product_ID ┆ Product_name ┆ Category ┆ Price  ┆ Seller_City │\n",
      "│ ---        ┆ ---          ┆ ---      ┆ ---    ┆ ---         │\n",
      "│ i64        ┆ str          ┆ str      ┆ f64    ┆ str         │\n",
      "╞════════════╪══════════════╪══════════╪════════╪═════════════╡\n",
      "│ 102        ┆ Bag          ┆ Fashion  ┆ 1350.5 ┆ Mumbai      │\n",
      "│ 105        ┆ Books        ┆ Study    ┆ 145.0  ┆ Delhi       │\n",
      "└────────────┴──────────────┴──────────┴────────┴─────────────┘\n"
     ]
    }
   ],
   "source": [
    "#use polars to create 2 sample dataframes\n",
    "combine_df1 = pl.DataFrame(\n",
    "    {\n",
    "    \"Product_ID\": [101, 102, 103, 104, 105, 106, 107],\n",
    "    \"Product_name\": [\"Watch\", \"Bag\", \"Shoes\", \"Smartphone\", \"Books\", \"Oil\", \"Laptop\"],\n",
    "    \"Category\": [\"Fashion\", \"Fashion\", \"Fashion\", \"Electronics\", \"Study\", \"Grocery\", \"Electronics\"],\n",
    "    \"Price\": [299.0, 1350.50, 2999.0, 14999.0, 145.0, 110.0, 79999.0],\n",
    "    \"Seller_City\": [\"Delhi\", \"Mumbai\", \"Chennai\", \"Kolkata\", \"Delhi\", \"Chennai\", \"Bengalore\"]\n",
    "    }\n",
    ")\n",
    "\n",
    "combine_df2 = pl.DataFrame(\n",
    "    {\n",
    "    \"id\": [1, 2, 3, 4, 5, 6, 7, 8, 9],\n",
    "    \"name\": [\"Olivia\", \"Aditya\", \"Cory\", \"Isabell\", \"Dominic\", \"Tyler\", \"Samuel\", \"Daniel\", \"Jeremy\"],\n",
    "    \"Product_ID\": [101, 0, 106, 0, 103, 104, 0, 0, 107],\n",
    "    \"Purchased_Product\": [\"Watch\", \"NA\", \"Oil\", \"NA\", \"Shoes\", \"Smartphone\", \"NA\", \"NA\", \"Laptop\"],\n",
    "    \"City\": [\"Mumbai\", \"Delhi\", \"Bangalore\", \"Chennai\", \"Chennai\", \"Delhi\", \"Kolkata\", \"Delhi\", \"Mumbai\"]\n",
    "    }\n",
    ")\n",
    "\n",
    "#use polars to inner join the dataframes\n",
    "joined_inner = combine_df1.join(combine_df2, on = \"Product_ID\", how = \"inner\")\n",
    "print(\"---Inner Joined---\")\n",
    "print(joined_inner)\n",
    "\n",
    "#use polars to left join the dataframes\n",
    "joined_left = combine_df1.join(combine_df2, on = \"Product_ID\", how = \"left\")\n",
    "print(\"---Left Joined---\")\n",
    "print(joined_left)\n",
    "\n",
    "#use polars to outer join the dataframes\n",
    "joined_outer = combine_df1.join(combine_df2, on = \"Product_ID\", how = \"outer\")\n",
    "print(\"---Outer Joined---\")\n",
    "print(joined_outer)\n",
    "\n",
    "#use polars to cross join the dataframes\n",
    "joined_cross = combine_df1.join(combine_df2, how = \"cross\")\n",
    "print(\"---Cross Joined---\")\n",
    "print(joined_cross)\n",
    "\n",
    "#use polars to semi join the dataframes to include \n",
    "#all rows from the left dataframe which join key is also in the right dataframe\n",
    "joined_semi = combine_df1.join(combine_df2, on = \"Product_ID\", how = \"semi\")\n",
    "print(\"---Semi Joined---\")\n",
    "print(joined_semi)\n",
    "\n",
    "#use polars to anti join the dataframes to include \n",
    "#all rows from the left dataframe which join key is not in the right dataframe\n",
    "joined_anti = combine_df1.join(combine_df2, on = \"Product_ID\", how = \"anti\")\n",
    "print(\"---Anti Joined---\")\n",
    "print(joined_anti)"
   ]
  },
  {
   "cell_type": "markdown",
   "id": "bd68ae63",
   "metadata": {},
   "source": [
    "### Concat\n",
    "##### There are two types of Concat: vertical & horizontal"
   ]
  },
  {
   "cell_type": "code",
   "execution_count": 16,
   "id": "2689f22f",
   "metadata": {
    "scrolled": true
   },
   "outputs": [
    {
     "name": "stdout",
     "output_type": "stream",
     "text": [
      "---Horizontal Concat---\n",
      "shape: (7, 10)\n",
      "┌────────────┬───────────┬───────────┬─────────┬───┬───────────┬───────────┬───────────┬───────────┐\n",
      "│ Product_ID ┆ Product_n ┆ Category  ┆ Price   ┆ … ┆ buyer_nam ┆ ProductID ┆ Purchased ┆ Location  │\n",
      "│ ---        ┆ ame       ┆ ---       ┆ ---     ┆   ┆ e         ┆ ---       ┆ _Product  ┆ ---       │\n",
      "│ i64        ┆ ---       ┆ str       ┆ f64     ┆   ┆ ---       ┆ i64       ┆ ---       ┆ str       │\n",
      "│            ┆ str       ┆           ┆         ┆   ┆ str       ┆           ┆ str       ┆           │\n",
      "╞════════════╪═══════════╪═══════════╪═════════╪═══╪═══════════╪═══════════╪═══════════╪═══════════╡\n",
      "│ 101        ┆ Watch     ┆ Fashion   ┆ 299.0   ┆ … ┆ Olivia    ┆ 101       ┆ Watch     ┆ Mumbai    │\n",
      "│ 102        ┆ Bag       ┆ Fashion   ┆ 1350.5  ┆ … ┆ Aditya    ┆ 0         ┆ NA        ┆ Delhi     │\n",
      "│ 103        ┆ Shoes     ┆ Fashion   ┆ 2999.0  ┆ … ┆ Cory      ┆ 106       ┆ Oil       ┆ Bangalore │\n",
      "│ 104        ┆ Smartphon ┆ Electroni ┆ 14999.0 ┆ … ┆ Isabell   ┆ 0         ┆ NA        ┆ Chennai   │\n",
      "│            ┆ e         ┆ cs        ┆         ┆   ┆           ┆           ┆           ┆           │\n",
      "│ 105        ┆ Books     ┆ Study     ┆ 145.0   ┆ … ┆ Dominic   ┆ 103       ┆ Shoes     ┆ Chennai   │\n",
      "│ 106        ┆ Oil       ┆ Grocery   ┆ 110.0   ┆ … ┆ Tyler     ┆ 104       ┆ Smartphon ┆ Delhi     │\n",
      "│            ┆           ┆           ┆         ┆   ┆           ┆           ┆ e         ┆           │\n",
      "│ 107        ┆ Laptop    ┆ Electroni ┆ 79999.0 ┆ … ┆ Samuel    ┆ 0         ┆ NA        ┆ Kolkata   │\n",
      "│            ┆           ┆ cs        ┆         ┆   ┆           ┆           ┆           ┆           │\n",
      "└────────────┴───────────┴───────────┴─────────┴───┴───────────┴───────────┴───────────┴───────────┘\n",
      "---Vertical Concat---\n",
      "shape: (14, 5)\n",
      "┌────────────┬──────────────┬─────────────┬─────────┬─────────────┐\n",
      "│ Product_ID ┆ Product_name ┆ Category    ┆ Price   ┆ Seller_City │\n",
      "│ ---        ┆ ---          ┆ ---         ┆ ---     ┆ ---         │\n",
      "│ i64        ┆ str          ┆ str         ┆ f64     ┆ str         │\n",
      "╞════════════╪══════════════╪═════════════╪═════════╪═════════════╡\n",
      "│ 101        ┆ Watch        ┆ Fashion     ┆ 299.0   ┆ Delhi       │\n",
      "│ 102        ┆ Bag          ┆ Fashion     ┆ 1350.5  ┆ Mumbai      │\n",
      "│ 103        ┆ Shoes        ┆ Fashion     ┆ 2999.0  ┆ Chennai     │\n",
      "│ 104        ┆ Smartphone   ┆ Electronics ┆ 14999.0 ┆ Kolkata     │\n",
      "│ 105        ┆ Books        ┆ Study       ┆ 145.0   ┆ Delhi       │\n",
      "│ …          ┆ …            ┆ …           ┆ …       ┆ …           │\n",
      "│ 113        ┆ Boots        ┆ Fashion     ┆ 29.0    ┆ New York    │\n",
      "│ 114        ┆ Earphone     ┆ Electronics ┆ 149.0   ┆ Kolkata     │\n",
      "│ 115        ┆ Books        ┆ Study       ┆ 45.0    ┆ NYC         │\n",
      "│ 116        ┆ Water        ┆ Grocery     ┆ 1.7     ┆ Chennai     │\n",
      "│ 117        ┆ Laptop       ┆ Electronics ┆ 799.0   ┆ Bengalore   │\n",
      "└────────────┴──────────────┴─────────────┴─────────┴─────────────┘\n"
     ]
    }
   ],
   "source": [
    "#Create a new dataframe for horizontal concat\n",
    "combine_df_h = pl.DataFrame(\n",
    "    {\n",
    "    \"id\": [1, 2, 3, 4, 5, 6, 7],\n",
    "    \"buyer_name\": [\"Olivia\", \"Aditya\", \"Cory\", \"Isabell\", \"Dominic\", \"Tyler\", \"Samuel\"],\n",
    "    \"ProductID\": [101, 0, 106, 0, 103, 104, 0],\n",
    "    \"Purchased_Product\": [\"Watch\", \"NA\", \"Oil\", \"NA\", \"Shoes\", \"Smartphone\", \"NA\"],\n",
    "    \"Location\": [\"Mumbai\", \"Delhi\", \"Bangalore\", \"Chennai\", \"Chennai\", \"Delhi\", \"Kolkata\"]\n",
    "    }\n",
    ")\n",
    "\n",
    "# Horizontal concat to make the combined dataframe wider\n",
    "horizontal_concat = combine_df1.hstack(combine_df_h)\n",
    "print(\"---Horizontal Concat---\")\n",
    "print(horizontal_concat)\n",
    "\n",
    "# Create a new dataframe for vertical concat\n",
    "combine_df_v = pl.DataFrame(\n",
    "    {\n",
    "    \"Product_ID\": [111, 112, 113, 114, 115, 116, 117],\n",
    "    \"Product_name\": [\"Water\", \"Chips\", \"Boots\", \"Earphone\", \"Books\", \"Water\", \"Laptop\"],\n",
    "    \"Category\": [\"Grocery\", \"Grocery\", \"Fashion\", \"Electronics\", \"Study\", \"Grocery\", \"Electronics\"],\n",
    "    \"Price\": [2.99, 2.50, 29.0, 149.0, 45.0, 1.7, 799.0],\n",
    "    \"Seller_City\": [\"Boston\", \"Mumbai\", \"New York\", \"Kolkata\", \"NYC\", \"Chennai\", \"Bengalore\"]\n",
    "    }\n",
    ")\n",
    "\n",
    "# Vertical concat to make the combined dataframe longer\n",
    "vertical_concat = combine_df1.vstack(combine_df_v)\n",
    "print(\"---Vertical Concat---\")\n",
    "print(vertical_concat)"
   ]
  },
  {
   "cell_type": "markdown",
   "id": "db9af92a",
   "metadata": {},
   "source": [
    "# 5) Common Data Manipulation Functions"
   ]
  },
  {
   "cell_type": "markdown",
   "id": "c4cd6ce5",
   "metadata": {},
   "source": [
    "### Sort"
   ]
  },
  {
   "cell_type": "code",
   "execution_count": 17,
   "id": "fbea1c35",
   "metadata": {},
   "outputs": [
    {
     "data": {
      "text/html": [
       "<div><style>\n",
       ".dataframe > thead > tr,\n",
       ".dataframe > tbody > tr {\n",
       "  text-align: right;\n",
       "  white-space: pre-wrap;\n",
       "}\n",
       "</style>\n",
       "<small>shape: (3, 4)</small><table border=\"1\" class=\"dataframe\"><thead><tr><th>integer</th><th>date</th><th>float</th><th>string</th></tr><tr><td>i64</td><td>datetime[μs]</td><td>f64</td><td>str</td></tr></thead><tbody><tr><td>1</td><td>2025-01-01 00:00:00</td><td>4.0</td><td>&quot;a&quot;</td></tr><tr><td>2</td><td>2025-01-02 00:00:00</td><td>5.0</td><td>&quot;b&quot;</td></tr><tr><td>3</td><td>2025-01-03 00:00:00</td><td>6.0</td><td>&quot;c&quot;</td></tr></tbody></table></div>"
      ],
      "text/plain": [
       "shape: (3, 4)\n",
       "┌─────────┬─────────────────────┬───────┬────────┐\n",
       "│ integer ┆ date                ┆ float ┆ string │\n",
       "│ ---     ┆ ---                 ┆ ---   ┆ ---    │\n",
       "│ i64     ┆ datetime[μs]        ┆ f64   ┆ str    │\n",
       "╞═════════╪═════════════════════╪═══════╪════════╡\n",
       "│ 1       ┆ 2025-01-01 00:00:00 ┆ 4.0   ┆ a      │\n",
       "│ 2       ┆ 2025-01-02 00:00:00 ┆ 5.0   ┆ b      │\n",
       "│ 3       ┆ 2025-01-03 00:00:00 ┆ 6.0   ┆ c      │\n",
       "└─────────┴─────────────────────┴───────┴────────┘"
      ]
     },
     "execution_count": 17,
     "metadata": {},
     "output_type": "execute_result"
    }
   ],
   "source": [
    "df.sort(by = \"float\")"
   ]
  },
  {
   "cell_type": "markdown",
   "id": "8cdeb4d2",
   "metadata": {},
   "source": [
    "### Select -- select all columns"
   ]
  },
  {
   "cell_type": "code",
   "execution_count": 18,
   "id": "71d8342e",
   "metadata": {},
   "outputs": [
    {
     "data": {
      "text/html": [
       "<div><style>\n",
       ".dataframe > thead > tr,\n",
       ".dataframe > tbody > tr {\n",
       "  text-align: right;\n",
       "  white-space: pre-wrap;\n",
       "}\n",
       "</style>\n",
       "<small>shape: (3, 4)</small><table border=\"1\" class=\"dataframe\"><thead><tr><th>integer</th><th>date</th><th>float</th><th>string</th></tr><tr><td>i64</td><td>datetime[μs]</td><td>f64</td><td>str</td></tr></thead><tbody><tr><td>1</td><td>2025-01-01 00:00:00</td><td>4.0</td><td>&quot;a&quot;</td></tr><tr><td>2</td><td>2025-01-02 00:00:00</td><td>5.0</td><td>&quot;b&quot;</td></tr><tr><td>3</td><td>2025-01-03 00:00:00</td><td>6.0</td><td>&quot;c&quot;</td></tr></tbody></table></div>"
      ],
      "text/plain": [
       "shape: (3, 4)\n",
       "┌─────────┬─────────────────────┬───────┬────────┐\n",
       "│ integer ┆ date                ┆ float ┆ string │\n",
       "│ ---     ┆ ---                 ┆ ---   ┆ ---    │\n",
       "│ i64     ┆ datetime[μs]        ┆ f64   ┆ str    │\n",
       "╞═════════╪═════════════════════╪═══════╪════════╡\n",
       "│ 1       ┆ 2025-01-01 00:00:00 ┆ 4.0   ┆ a      │\n",
       "│ 2       ┆ 2025-01-02 00:00:00 ┆ 5.0   ┆ b      │\n",
       "│ 3       ┆ 2025-01-03 00:00:00 ┆ 6.0   ┆ c      │\n",
       "└─────────┴─────────────────────┴───────┴────────┘"
      ]
     },
     "execution_count": 18,
     "metadata": {},
     "output_type": "execute_result"
    }
   ],
   "source": [
    "df.select(pl.col(\"*\"))  #* means all columns in polars"
   ]
  },
  {
   "cell_type": "markdown",
   "id": "0554a0f1",
   "metadata": {},
   "source": [
    "### Select -- select specific columns"
   ]
  },
  {
   "cell_type": "code",
   "execution_count": 19,
   "id": "9c3ddce7",
   "metadata": {},
   "outputs": [
    {
     "data": {
      "text/html": [
       "<div><style>\n",
       ".dataframe > thead > tr,\n",
       ".dataframe > tbody > tr {\n",
       "  text-align: right;\n",
       "  white-space: pre-wrap;\n",
       "}\n",
       "</style>\n",
       "<small>shape: (3, 2)</small><table border=\"1\" class=\"dataframe\"><thead><tr><th>integer</th><th>date</th></tr><tr><td>i64</td><td>datetime[μs]</td></tr></thead><tbody><tr><td>1</td><td>2025-01-01 00:00:00</td></tr><tr><td>2</td><td>2025-01-02 00:00:00</td></tr><tr><td>3</td><td>2025-01-03 00:00:00</td></tr></tbody></table></div>"
      ],
      "text/plain": [
       "shape: (3, 2)\n",
       "┌─────────┬─────────────────────┐\n",
       "│ integer ┆ date                │\n",
       "│ ---     ┆ ---                 │\n",
       "│ i64     ┆ datetime[μs]        │\n",
       "╞═════════╪═════════════════════╡\n",
       "│ 1       ┆ 2025-01-01 00:00:00 │\n",
       "│ 2       ┆ 2025-01-02 00:00:00 │\n",
       "│ 3       ┆ 2025-01-03 00:00:00 │\n",
       "└─────────┴─────────────────────┘"
      ]
     },
     "execution_count": 19,
     "metadata": {},
     "output_type": "execute_result"
    }
   ],
   "source": [
    "df.select(pl.col(\"integer\", \"date\"))"
   ]
  },
  {
   "cell_type": "markdown",
   "id": "7c4ecb13",
   "metadata": {},
   "source": [
    "### Filter -- create subset of the dataframe"
   ]
  },
  {
   "cell_type": "code",
   "execution_count": 20,
   "id": "e6aa6a9b",
   "metadata": {},
   "outputs": [
    {
     "data": {
      "text/html": [
       "<div><style>\n",
       ".dataframe > thead > tr,\n",
       ".dataframe > tbody > tr {\n",
       "  text-align: right;\n",
       "  white-space: pre-wrap;\n",
       "}\n",
       "</style>\n",
       "<small>shape: (2, 4)</small><table border=\"1\" class=\"dataframe\"><thead><tr><th>integer</th><th>date</th><th>float</th><th>string</th></tr><tr><td>i64</td><td>datetime[μs]</td><td>f64</td><td>str</td></tr></thead><tbody><tr><td>1</td><td>2025-01-01 00:00:00</td><td>4.0</td><td>&quot;a&quot;</td></tr><tr><td>2</td><td>2025-01-02 00:00:00</td><td>5.0</td><td>&quot;b&quot;</td></tr></tbody></table></div>"
      ],
      "text/plain": [
       "shape: (2, 4)\n",
       "┌─────────┬─────────────────────┬───────┬────────┐\n",
       "│ integer ┆ date                ┆ float ┆ string │\n",
       "│ ---     ┆ ---                 ┆ ---   ┆ ---    │\n",
       "│ i64     ┆ datetime[μs]        ┆ f64   ┆ str    │\n",
       "╞═════════╪═════════════════════╪═══════╪════════╡\n",
       "│ 1       ┆ 2025-01-01 00:00:00 ┆ 4.0   ┆ a      │\n",
       "│ 2       ┆ 2025-01-02 00:00:00 ┆ 5.0   ┆ b      │\n",
       "└─────────┴─────────────────────┴───────┴────────┘"
      ]
     },
     "execution_count": 20,
     "metadata": {},
     "output_type": "execute_result"
    }
   ],
   "source": [
    "df.filter(pl.col(\"integer\").is_between(1, 2))"
   ]
  },
  {
   "cell_type": "markdown",
   "id": "93b570d2",
   "metadata": {},
   "source": [
    "### Add Columns"
   ]
  },
  {
   "cell_type": "code",
   "execution_count": 21,
   "id": "58663987",
   "metadata": {},
   "outputs": [
    {
     "data": {
      "text/html": [
       "<div><style>\n",
       ".dataframe > thead > tr,\n",
       ".dataframe > tbody > tr {\n",
       "  text-align: right;\n",
       "  white-space: pre-wrap;\n",
       "}\n",
       "</style>\n",
       "<small>shape: (3, 5)</small><table border=\"1\" class=\"dataframe\"><thead><tr><th>integer</th><th>date</th><th>float</th><th>string</th><th>integer+10</th></tr><tr><td>i64</td><td>datetime[μs]</td><td>f64</td><td>str</td><td>i64</td></tr></thead><tbody><tr><td>1</td><td>2025-01-01 00:00:00</td><td>4.0</td><td>&quot;a&quot;</td><td>11</td></tr><tr><td>2</td><td>2025-01-02 00:00:00</td><td>5.0</td><td>&quot;b&quot;</td><td>12</td></tr><tr><td>3</td><td>2025-01-03 00:00:00</td><td>6.0</td><td>&quot;c&quot;</td><td>13</td></tr></tbody></table></div>"
      ],
      "text/plain": [
       "shape: (3, 5)\n",
       "┌─────────┬─────────────────────┬───────┬────────┬────────────┐\n",
       "│ integer ┆ date                ┆ float ┆ string ┆ integer+10 │\n",
       "│ ---     ┆ ---                 ┆ ---   ┆ ---    ┆ ---        │\n",
       "│ i64     ┆ datetime[μs]        ┆ f64   ┆ str    ┆ i64        │\n",
       "╞═════════╪═════════════════════╪═══════╪════════╪════════════╡\n",
       "│ 1       ┆ 2025-01-01 00:00:00 ┆ 4.0   ┆ a      ┆ 11         │\n",
       "│ 2       ┆ 2025-01-02 00:00:00 ┆ 5.0   ┆ b      ┆ 12         │\n",
       "│ 3       ┆ 2025-01-03 00:00:00 ┆ 6.0   ┆ c      ┆ 13         │\n",
       "└─────────┴─────────────────────┴───────┴────────┴────────────┘"
      ]
     },
     "execution_count": 21,
     "metadata": {},
     "output_type": "execute_result"
    }
   ],
   "source": [
    "#add a new column which calculates the value of integer +10 and name it as \"integer+10\"\n",
    "df.with_columns((pl.col(\"integer\") + 10).alias(\"integer+10\"))"
   ]
  },
  {
   "cell_type": "markdown",
   "id": "ae3fd252",
   "metadata": {},
   "source": [
    "### Group by"
   ]
  },
  {
   "cell_type": "code",
   "execution_count": 22,
   "id": "15dcd1f7",
   "metadata": {},
   "outputs": [
    {
     "data": {
      "text/html": [
       "<div><style>\n",
       ".dataframe > thead > tr,\n",
       ".dataframe > tbody > tr {\n",
       "  text-align: right;\n",
       "  white-space: pre-wrap;\n",
       "}\n",
       "</style>\n",
       "<small>shape: (4, 2)</small><table border=\"1\" class=\"dataframe\"><thead><tr><th>Category</th><th>len</th></tr><tr><td>str</td><td>u32</td></tr></thead><tbody><tr><td>&quot;Study&quot;</td><td>1</td></tr><tr><td>&quot;Grocery&quot;</td><td>1</td></tr><tr><td>&quot;Fashion&quot;</td><td>3</td></tr><tr><td>&quot;Electronics&quot;</td><td>2</td></tr></tbody></table></div>"
      ],
      "text/plain": [
       "shape: (4, 2)\n",
       "┌─────────────┬─────┐\n",
       "│ Category    ┆ len │\n",
       "│ ---         ┆ --- │\n",
       "│ str         ┆ u32 │\n",
       "╞═════════════╪═════╡\n",
       "│ Study       ┆ 1   │\n",
       "│ Grocery     ┆ 1   │\n",
       "│ Fashion     ┆ 3   │\n",
       "│ Electronics ┆ 2   │\n",
       "└─────────────┴─────┘"
      ]
     },
     "execution_count": 22,
     "metadata": {},
     "output_type": "execute_result"
    }
   ],
   "source": [
    "#use combine_df1 as an example\n",
    "combine_df1.group_by(\"Category\").len()  #remember to have len() to show the sum of grouped results"
   ]
  },
  {
   "cell_type": "markdown",
   "id": "356a83df",
   "metadata": {},
   "source": [
    "# 6) Lazy API\n",
    "\n",
    "##### Lazy API allows users to specify a sequence of operations without immediately running them. These operations will be saved as a computational graph and only run when necessary. Thus, Polars can optimize queries before execution, catch schema errors before the data is processed, and perform memory-efficient queries on datasets that don’t fit into memory. Another benefit is that lazy API can execute the query in batches which is like streaming, but this feature is still in development and not all lazy API operations support streaming.  "
   ]
  },
  {
   "cell_type": "markdown",
   "id": "56924310",
   "metadata": {},
   "source": [
    "### Create LazyFrame (dataframe with Lazy API)"
   ]
  },
  {
   "cell_type": "code",
   "execution_count": 23,
   "id": "829199e4",
   "metadata": {},
   "outputs": [
    {
     "data": {
      "text/html": [
       "<i>naive plan: (run <b>LazyFrame.explain(optimized=True)</b> to see the optimized plan)</i>\n",
       "    <p></p>\n",
       "    <div>FILTER [(col(\"n\")) > (0)] FROM<p></p> WITH_COLUMNS:<p></p> [col(\"name\").str.uppercase()]<p></p><p></p>    Csv SCAN data/cast.csv<p></p>    PROJECT */6 COLUMNS</div>"
      ],
      "text/plain": [
       "<LazyFrame [6 cols, {\"title\": String … \"n\": Int64}] at 0x1E34B80FA90>"
      ]
     },
     "execution_count": 23,
     "metadata": {},
     "output_type": "execute_result"
    }
   ],
   "source": [
    "#Create lazyframe by reading from a local data file\n",
    "lazy_create = (\n",
    "    pl.scan_csv(f\"data/cast.csv\")  #pl.scan_() starts lazy API \n",
    "    #replace the file location with your location\n",
    "    .with_columns(pl.col(\"name\").str.to_uppercase())  #convert the \"name\" column to uppercase\n",
    "    .filter(pl.col(\"n\") > 0)  #apply a filter on the \"n\" column to select values only larger than 0\n",
    ")\n",
    "\n",
    "#calling the variable will not execute the query immediately\n",
    "#Instead, the output will show users the non-optimized plan (explain later)\n",
    "lazy_create"
   ]
  },
  {
   "cell_type": "code",
   "execution_count": 24,
   "id": "66a26bfe",
   "metadata": {},
   "outputs": [
    {
     "data": {
      "text/html": [
       "<i>naive plan: (run <b>LazyFrame.explain(optimized=True)</b> to see the optimized plan)</i>\n",
       "    <p></p>\n",
       "    <div>DF [\"integer\", \"date\", \"float\", \"string\"]; PROJECT */4 COLUMNS; SELECTION: \"None\"</div>"
      ],
      "text/plain": [
       "<LazyFrame [4 cols, {\"integer\": Int64 … \"string\": String}] at 0x1E34B8553D0>"
      ]
     },
     "execution_count": 24,
     "metadata": {},
     "output_type": "execute_result"
    }
   ],
   "source": [
    "#Convert an existing dataframe to lazyframe\n",
    "lazy_existing = pl.DataFrame(df).lazy()  #.lazy() convert the dataframe into a LazyFrame\n",
    "\n",
    "#calling the variable will not execute the query immediately\n",
    "#Instead, the output will show users the non-optimized plan (explain later)\n",
    "lazy_existing"
   ]
  },
  {
   "cell_type": "markdown",
   "id": "c3dcacb4",
   "metadata": {},
   "source": [
    "### Lazy API Optimization\n",
    "##### For any lazy query Polars has both:\n",
    "1. a non-optimized plan with the set of steps code as we provided it and\n",
    "2. an optimized plan with changes made by the query optimizer (this is what will be executed by Polars at default)\n",
    "\n",
    "##### Polars have many optimization methods on query. The example below shows the \"Precidate Pushdown\" optimization which applys filters as early as possible to reduce the data size before further actions and make queries more memory efficient "
   ]
  },
  {
   "cell_type": "code",
   "execution_count": 25,
   "id": "ab2b1ce9",
   "metadata": {},
   "outputs": [],
   "source": [
    "# Non-optimized query\n",
    "non_optimize = (\n",
    "    pl.scan_csv(f\"data/cast.csv\")  #replace the file location with your location\n",
    "    .with_columns(pl.col(\"name\").str.to_uppercase())\n",
    "    .filter(pl.col(\"n\") > 0)\n",
    ")"
   ]
  },
  {
   "cell_type": "code",
   "execution_count": 26,
   "id": "254d0b21",
   "metadata": {},
   "outputs": [
    {
     "name": "stdout",
     "output_type": "stream",
     "text": [
      "FILTER [(col(\"n\")) > (0)] FROM\n",
      " WITH_COLUMNS:\n",
      " [col(\"name\").str.uppercase()]\n",
      "\n",
      "    Csv SCAN data/cast.csv\n",
      "    PROJECT */6 COLUMNS\n"
     ]
    }
   ],
   "source": [
    "#Show the non-optimized query execution plan with .explain() (read from bottom to top)\n",
    "print(non_optimize.explain(optimized=False))"
   ]
  },
  {
   "cell_type": "code",
   "execution_count": 27,
   "id": "5db5ef19",
   "metadata": {},
   "outputs": [
    {
     "name": "stdout",
     "output_type": "stream",
     "text": [
      " WITH_COLUMNS:\n",
      " [col(\"name\").str.uppercase()]\n",
      "\n",
      "    Csv SCAN data/cast.csv\n",
      "    PROJECT */6 COLUMNS\n",
      "    SELECTION: [(col(\"n\")) > (0)]\n"
     ]
    }
   ],
   "source": [
    "#Show the optimized query execution plan with .explain() (read from bottom to top)\n",
    "print(non_optimize.explain(optimized=True))\n",
    "\n",
    "#The optimized queries apply filter first and then execute other queries to reduce the data size and make queries more memory efficient\n",
    "#If execute the queries, Polars will execute the optimized queries by default"
   ]
  },
  {
   "cell_type": "markdown",
   "id": "0b020817",
   "metadata": {},
   "source": [
    "### Execute Query\n",
    "##### There are three ways to execute queries:\n",
    "1. Execute the full dataset\n",
    "2. Execute the full dataset when the dataset is larger than memory available\n",
    "3. Execute partial dataset"
   ]
  },
  {
   "cell_type": "code",
   "execution_count": 28,
   "id": "e9251d90",
   "metadata": {},
   "outputs": [
    {
     "data": {
      "text/html": [
       "<div><style>\n",
       ".dataframe > thead > tr,\n",
       ".dataframe > tbody > tr {\n",
       "  text-align: right;\n",
       "  white-space: pre-wrap;\n",
       "}\n",
       "</style>\n",
       "<small>shape: (2_115_119, 6)</small><table border=\"1\" class=\"dataframe\"><thead><tr><th>title</th><th>year</th><th>name</th><th>type</th><th>character</th><th>n</th></tr><tr><td>str</td><td>i64</td><td>str</td><td>str</td><td>str</td><td>i64</td></tr></thead><tbody><tr><td>&quot;Closet Monster…</td><td>2015</td><td>&quot;BUFFY #1&quot;</td><td>&quot;actor&quot;</td><td>&quot;Buffy 4&quot;</td><td>31</td></tr><tr><td>&quot;Suuri illusion…</td><td>1985</td><td>&quot;HOMO $&quot;</td><td>&quot;actor&quot;</td><td>&quot;Guests&quot;</td><td>22</td></tr><tr><td>&quot;Battle of the …</td><td>2017</td><td>&quot;$HUTTER&quot;</td><td>&quot;actor&quot;</td><td>&quot;Bobby Riggs Fa…</td><td>10</td></tr><tr><td>&quot;Lapis, Ballpen…</td><td>2014</td><td>&quot;JORI &#x27; DANILO&#x27;…</td><td>&quot;actor&quot;</td><td>&quot;Jaime (young)&quot;</td><td>9</td></tr><tr><td>&quot;When the Man W…</td><td>2014</td><td>&quot;TAIPALETI &#x27;ATU…</td><td>&quot;actor&quot;</td><td>&quot;Two Palms - Ua…</td><td>8</td></tr><tr><td>&quot;Little Angel (…</td><td>2015</td><td>&quot;MICHAEL &#x27;BABEE…</td><td>&quot;actor&quot;</td><td>&quot;Chico&quot;</td><td>9</td></tr><tr><td>&quot;My Song for Yo…</td><td>2010</td><td>&quot;GEORGE &#x27;BOOTSY…</td><td>&quot;actor&quot;</td><td>&quot;Cooley&#x27;s Custo…</td><td>16</td></tr><tr><td>&quot;My Song for Yo…</td><td>2010</td><td>&quot;GEORGE &#x27;BOOTSY…</td><td>&quot;actor&quot;</td><td>&quot;Celebration Gu…</td><td>16</td></tr><tr><td>&quot;Mariano Mison.…</td><td>1997</td><td>&quot;JOSEPH &#x27;BYRON&#x27;…</td><td>&quot;actor&quot;</td><td>&quot;Putik&#x27;s Son&quot;</td><td>31</td></tr><tr><td>&quot;Pelotazo nacio…</td><td>1993</td><td>&quot;FÉLIX &#x27;EL GATO…</td><td>&quot;actor&quot;</td><td>&quot;Rebolledo&quot;</td><td>12</td></tr><tr><td>&quot;Los tarantos&quot;</td><td>1963</td><td>&quot;&#x27;EL GUISA&#x27;&quot;</td><td>&quot;actor&quot;</td><td>&quot;Bailaor&quot;</td><td>25</td></tr><tr><td>&quot;De la calle&quot;</td><td>2001</td><td>&quot;LUIS &#x27;EL PLOJO…</td><td>&quot;actor&quot;</td><td>&quot;Froilán plaza …</td><td>80</td></tr><tr><td>&hellip;</td><td>&hellip;</td><td>&hellip;</td><td>&hellip;</td><td>&hellip;</td><td>&hellip;</td></tr><tr><td>&quot;Niceland (Popu…</td><td>2004</td><td>&quot;HUGRÚN ÞORFINN…</td><td>&quot;actress&quot;</td><td>&quot;Diana&quot;</td><td>10</td></tr><tr><td>&quot;Nei er ekkert …</td><td>1995</td><td>&quot;GUÐRÚN B. ÞORS…</td><td>&quot;actress&quot;</td><td>&quot;Partýgestir&quot;</td><td>46</td></tr><tr><td>&quot;Agnes&quot;</td><td>1995</td><td>&quot;INGIBJÖRG ÞORS…</td><td>&quot;actress&quot;</td><td>&quot;Kona&quot;</td><td>25</td></tr><tr><td>&quot;Beowulf &amp; Gren…</td><td>2005</td><td>&quot;STEINUNN ÓLÍNA…</td><td>&quot;actress&quot;</td><td>&quot;Wealtheow&quot;</td><td>15</td></tr><tr><td>&quot;Eden&quot;</td><td>2018</td><td>&quot;STEINUNN ÓLÍNA…</td><td>&quot;actress&quot;</td><td>&quot;Móðir Viggu&quot;</td><td>8</td></tr><tr><td>&quot;Dansinn&quot;</td><td>1998</td><td>&quot;LILJA GUÐRÚN Þ…</td><td>&quot;actress&quot;</td><td>&quot;Sýslumannafrúi…</td><td>13</td></tr><tr><td>&quot;Niceland (Popu…</td><td>2004</td><td>&quot;STEINUNN ÞORVA…</td><td>&quot;actress&quot;</td><td>&quot;Factory Worker…</td><td>21</td></tr><tr><td>&quot;Stuttur Frakki…</td><td>1993</td><td>&quot;SVEINBJÖRG ÞÓR…</td><td>&quot;actress&quot;</td><td>&quot;Flugfreyja&quot;</td><td>24</td></tr><tr><td>&quot;Foxtrot&quot;</td><td>1988</td><td>&quot;LILJA ÞÓRISDÓT…</td><td>&quot;actress&quot;</td><td>&quot;Dóra&quot;</td><td>24</td></tr><tr><td>&quot;Niceland (Popu…</td><td>2004</td><td>&quot;SIGRÍÐUR JÓNA …</td><td>&quot;actress&quot;</td><td>&quot;Woman in Bus&quot;</td><td>26</td></tr><tr><td>&quot;Skammdegi&quot;</td><td>1985</td><td>&quot;DALLA ÞÓRÐARDÓ…</td><td>&quot;actress&quot;</td><td>&quot;Hjúkrunarkona&quot;</td><td>9</td></tr><tr><td>&quot;U.S.S.S.S...&quot;</td><td>2003</td><td>&quot;KRISTÍN ANDREA…</td><td>&quot;actress&quot;</td><td>&quot;Afgr.dama á be…</td><td>17</td></tr></tbody></table></div>"
      ],
      "text/plain": [
       "shape: (2_115_119, 6)\n",
       "┌─────────────────────────┬──────┬────────────────────────┬─────────┬────────────────────────┬─────┐\n",
       "│ title                   ┆ year ┆ name                   ┆ type    ┆ character              ┆ n   │\n",
       "│ ---                     ┆ ---  ┆ ---                    ┆ ---     ┆ ---                    ┆ --- │\n",
       "│ str                     ┆ i64  ┆ str                    ┆ str     ┆ str                    ┆ i64 │\n",
       "╞═════════════════════════╪══════╪════════════════════════╪═════════╪════════════════════════╪═════╡\n",
       "│ Closet Monster          ┆ 2015 ┆ BUFFY #1               ┆ actor   ┆ Buffy 4                ┆ 31  │\n",
       "│ Suuri illusioni         ┆ 1985 ┆ HOMO $                 ┆ actor   ┆ Guests                 ┆ 22  │\n",
       "│ Battle of the Sexes     ┆ 2017 ┆ $HUTTER                ┆ actor   ┆ Bobby Riggs Fan        ┆ 10  │\n",
       "│ Lapis, Ballpen at       ┆ 2014 ┆ JORI ' DANILO' JURADO  ┆ actor   ┆ Jaime (young)          ┆ 9   │\n",
       "│ Diploma, a Tru…         ┆      ┆ JR.                    ┆         ┆                        ┆     │\n",
       "│ When the Man Went South ┆ 2014 ┆ TAIPALETI 'ATU'AKE     ┆ actor   ┆ Two Palms - Ua'i Paame ┆ 8   │\n",
       "│ …                       ┆ …    ┆ …                      ┆ …       ┆ …                      ┆ …   │\n",
       "│ Stuttur Frakki          ┆ 1993 ┆ SVEINBJÖRG             ┆ actress ┆ Flugfreyja             ┆ 24  │\n",
       "│                         ┆      ┆ ÞÓRHALLSDÓTTIR         ┆         ┆                        ┆     │\n",
       "│ Foxtrot                 ┆ 1988 ┆ LILJA ÞÓRISDÓTTIR      ┆ actress ┆ Dóra                   ┆ 24  │\n",
       "│ Niceland (Population.   ┆ 2004 ┆ SIGRÍÐUR JÓNA          ┆ actress ┆ Woman in Bus           ┆ 26  │\n",
       "│ 1.000.002)              ┆      ┆ ÞÓRISDÓTTIR            ┆         ┆                        ┆     │\n",
       "│ Skammdegi               ┆ 1985 ┆ DALLA ÞÓRÐARDÓTTIR     ┆ actress ┆ Hjúkrunarkona          ┆ 9   │\n",
       "│ U.S.S.S.S...            ┆ 2003 ┆ KRISTÍN ANDREA         ┆ actress ┆ Afgr.dama á bensínstöð ┆ 17  │\n",
       "│                         ┆      ┆ ÞÓRÐARDÓTTIR           ┆         ┆                        ┆     │\n",
       "└─────────────────────────┴──────┴────────────────────────┴─────────┴────────────────────────┴─────┘"
      ]
     },
     "execution_count": 28,
     "metadata": {},
     "output_type": "execute_result"
    }
   ],
   "source": [
    "#1. Execute the full dataset\n",
    "Execute_full = (\n",
    "    pl.scan_csv(f\"data/cast.csv\")\n",
    "    .with_columns(pl.col(\"name\").str.to_uppercase())\n",
    "    .filter(pl.col(\"n\") > 0)\n",
    "    .collect()  #use .collect() at the end to execute\n",
    ")\n",
    "\n",
    "#Now the query is executed and output is correctly generated\n",
    "Execute_full"
   ]
  },
  {
   "cell_type": "code",
   "execution_count": 29,
   "id": "915f071e",
   "metadata": {},
   "outputs": [
    {
     "data": {
      "text/html": [
       "<div><style>\n",
       ".dataframe > thead > tr,\n",
       ".dataframe > tbody > tr {\n",
       "  text-align: right;\n",
       "  white-space: pre-wrap;\n",
       "}\n",
       "</style>\n",
       "<small>shape: (2_115_119, 6)</small><table border=\"1\" class=\"dataframe\"><thead><tr><th>title</th><th>year</th><th>name</th><th>type</th><th>character</th><th>n</th></tr><tr><td>str</td><td>i64</td><td>str</td><td>str</td><td>str</td><td>i64</td></tr></thead><tbody><tr><td>&quot;Closet Monster…</td><td>2015</td><td>&quot;BUFFY #1&quot;</td><td>&quot;actor&quot;</td><td>&quot;Buffy 4&quot;</td><td>31</td></tr><tr><td>&quot;Suuri illusion…</td><td>1985</td><td>&quot;HOMO $&quot;</td><td>&quot;actor&quot;</td><td>&quot;Guests&quot;</td><td>22</td></tr><tr><td>&quot;Battle of the …</td><td>2017</td><td>&quot;$HUTTER&quot;</td><td>&quot;actor&quot;</td><td>&quot;Bobby Riggs Fa…</td><td>10</td></tr><tr><td>&quot;Lapis, Ballpen…</td><td>2014</td><td>&quot;JORI &#x27; DANILO&#x27;…</td><td>&quot;actor&quot;</td><td>&quot;Jaime (young)&quot;</td><td>9</td></tr><tr><td>&quot;When the Man W…</td><td>2014</td><td>&quot;TAIPALETI &#x27;ATU…</td><td>&quot;actor&quot;</td><td>&quot;Two Palms - Ua…</td><td>8</td></tr><tr><td>&quot;Little Angel (…</td><td>2015</td><td>&quot;MICHAEL &#x27;BABEE…</td><td>&quot;actor&quot;</td><td>&quot;Chico&quot;</td><td>9</td></tr><tr><td>&quot;My Song for Yo…</td><td>2010</td><td>&quot;GEORGE &#x27;BOOTSY…</td><td>&quot;actor&quot;</td><td>&quot;Cooley&#x27;s Custo…</td><td>16</td></tr><tr><td>&quot;My Song for Yo…</td><td>2010</td><td>&quot;GEORGE &#x27;BOOTSY…</td><td>&quot;actor&quot;</td><td>&quot;Celebration Gu…</td><td>16</td></tr><tr><td>&quot;Mariano Mison.…</td><td>1997</td><td>&quot;JOSEPH &#x27;BYRON&#x27;…</td><td>&quot;actor&quot;</td><td>&quot;Putik&#x27;s Son&quot;</td><td>31</td></tr><tr><td>&quot;Pelotazo nacio…</td><td>1993</td><td>&quot;FÉLIX &#x27;EL GATO…</td><td>&quot;actor&quot;</td><td>&quot;Rebolledo&quot;</td><td>12</td></tr><tr><td>&quot;Los tarantos&quot;</td><td>1963</td><td>&quot;&#x27;EL GUISA&#x27;&quot;</td><td>&quot;actor&quot;</td><td>&quot;Bailaor&quot;</td><td>25</td></tr><tr><td>&quot;De la calle&quot;</td><td>2001</td><td>&quot;LUIS &#x27;EL PLOJO…</td><td>&quot;actor&quot;</td><td>&quot;Froilán plaza …</td><td>80</td></tr><tr><td>&hellip;</td><td>&hellip;</td><td>&hellip;</td><td>&hellip;</td><td>&hellip;</td><td>&hellip;</td></tr><tr><td>&quot;Niceland (Popu…</td><td>2004</td><td>&quot;HUGRÚN ÞORFINN…</td><td>&quot;actress&quot;</td><td>&quot;Diana&quot;</td><td>10</td></tr><tr><td>&quot;Nei er ekkert …</td><td>1995</td><td>&quot;GUÐRÚN B. ÞORS…</td><td>&quot;actress&quot;</td><td>&quot;Partýgestir&quot;</td><td>46</td></tr><tr><td>&quot;Agnes&quot;</td><td>1995</td><td>&quot;INGIBJÖRG ÞORS…</td><td>&quot;actress&quot;</td><td>&quot;Kona&quot;</td><td>25</td></tr><tr><td>&quot;Beowulf &amp; Gren…</td><td>2005</td><td>&quot;STEINUNN ÓLÍNA…</td><td>&quot;actress&quot;</td><td>&quot;Wealtheow&quot;</td><td>15</td></tr><tr><td>&quot;Eden&quot;</td><td>2018</td><td>&quot;STEINUNN ÓLÍNA…</td><td>&quot;actress&quot;</td><td>&quot;Móðir Viggu&quot;</td><td>8</td></tr><tr><td>&quot;Dansinn&quot;</td><td>1998</td><td>&quot;LILJA GUÐRÚN Þ…</td><td>&quot;actress&quot;</td><td>&quot;Sýslumannafrúi…</td><td>13</td></tr><tr><td>&quot;Niceland (Popu…</td><td>2004</td><td>&quot;STEINUNN ÞORVA…</td><td>&quot;actress&quot;</td><td>&quot;Factory Worker…</td><td>21</td></tr><tr><td>&quot;Stuttur Frakki…</td><td>1993</td><td>&quot;SVEINBJÖRG ÞÓR…</td><td>&quot;actress&quot;</td><td>&quot;Flugfreyja&quot;</td><td>24</td></tr><tr><td>&quot;Foxtrot&quot;</td><td>1988</td><td>&quot;LILJA ÞÓRISDÓT…</td><td>&quot;actress&quot;</td><td>&quot;Dóra&quot;</td><td>24</td></tr><tr><td>&quot;Niceland (Popu…</td><td>2004</td><td>&quot;SIGRÍÐUR JÓNA …</td><td>&quot;actress&quot;</td><td>&quot;Woman in Bus&quot;</td><td>26</td></tr><tr><td>&quot;Skammdegi&quot;</td><td>1985</td><td>&quot;DALLA ÞÓRÐARDÓ…</td><td>&quot;actress&quot;</td><td>&quot;Hjúkrunarkona&quot;</td><td>9</td></tr><tr><td>&quot;U.S.S.S.S...&quot;</td><td>2003</td><td>&quot;KRISTÍN ANDREA…</td><td>&quot;actress&quot;</td><td>&quot;Afgr.dama á be…</td><td>17</td></tr></tbody></table></div>"
      ],
      "text/plain": [
       "shape: (2_115_119, 6)\n",
       "┌─────────────────────────┬──────┬────────────────────────┬─────────┬────────────────────────┬─────┐\n",
       "│ title                   ┆ year ┆ name                   ┆ type    ┆ character              ┆ n   │\n",
       "│ ---                     ┆ ---  ┆ ---                    ┆ ---     ┆ ---                    ┆ --- │\n",
       "│ str                     ┆ i64  ┆ str                    ┆ str     ┆ str                    ┆ i64 │\n",
       "╞═════════════════════════╪══════╪════════════════════════╪═════════╪════════════════════════╪═════╡\n",
       "│ Closet Monster          ┆ 2015 ┆ BUFFY #1               ┆ actor   ┆ Buffy 4                ┆ 31  │\n",
       "│ Suuri illusioni         ┆ 1985 ┆ HOMO $                 ┆ actor   ┆ Guests                 ┆ 22  │\n",
       "│ Battle of the Sexes     ┆ 2017 ┆ $HUTTER                ┆ actor   ┆ Bobby Riggs Fan        ┆ 10  │\n",
       "│ Lapis, Ballpen at       ┆ 2014 ┆ JORI ' DANILO' JURADO  ┆ actor   ┆ Jaime (young)          ┆ 9   │\n",
       "│ Diploma, a Tru…         ┆      ┆ JR.                    ┆         ┆                        ┆     │\n",
       "│ When the Man Went South ┆ 2014 ┆ TAIPALETI 'ATU'AKE     ┆ actor   ┆ Two Palms - Ua'i Paame ┆ 8   │\n",
       "│ …                       ┆ …    ┆ …                      ┆ …       ┆ …                      ┆ …   │\n",
       "│ Stuttur Frakki          ┆ 1993 ┆ SVEINBJÖRG             ┆ actress ┆ Flugfreyja             ┆ 24  │\n",
       "│                         ┆      ┆ ÞÓRHALLSDÓTTIR         ┆         ┆                        ┆     │\n",
       "│ Foxtrot                 ┆ 1988 ┆ LILJA ÞÓRISDÓTTIR      ┆ actress ┆ Dóra                   ┆ 24  │\n",
       "│ Niceland (Population.   ┆ 2004 ┆ SIGRÍÐUR JÓNA          ┆ actress ┆ Woman in Bus           ┆ 26  │\n",
       "│ 1.000.002)              ┆      ┆ ÞÓRISDÓTTIR            ┆         ┆                        ┆     │\n",
       "│ Skammdegi               ┆ 1985 ┆ DALLA ÞÓRÐARDÓTTIR     ┆ actress ┆ Hjúkrunarkona          ┆ 9   │\n",
       "│ U.S.S.S.S...            ┆ 2003 ┆ KRISTÍN ANDREA         ┆ actress ┆ Afgr.dama á bensínstöð ┆ 17  │\n",
       "│                         ┆      ┆ ÞÓRÐARDÓTTIR           ┆         ┆                        ┆     │\n",
       "└─────────────────────────┴──────┴────────────────────────┴─────────┴────────────────────────┴─────┘"
      ]
     },
     "execution_count": 29,
     "metadata": {},
     "output_type": "execute_result"
    }
   ],
   "source": [
    "#2. Execute the full dataset when the dataset is larger than memory available\n",
    "Execute_full_larger = (\n",
    "    pl.scan_csv(f\"data/cast.csv\")\n",
    "    .with_columns(pl.col(\"name\").str.to_uppercase())\n",
    "    .filter(pl.col(\"n\") > 0)\n",
    "    .collect(streaming=True) \n",
    "    #use .collect() at the end to execute and add \"streaming=True\" argument to use streaming method to process data in batches\n",
    ")\n",
    "\n",
    "#Now the query is executed and output is correctly generated\n",
    "Execute_full"
   ]
  },
  {
   "cell_type": "code",
   "execution_count": 30,
   "id": "8374496f",
   "metadata": {},
   "outputs": [
    {
     "data": {
      "text/html": [
       "<div><style>\n",
       ".dataframe > thead > tr,\n",
       ".dataframe > tbody > tr {\n",
       "  text-align: right;\n",
       "  white-space: pre-wrap;\n",
       "}\n",
       "</style>\n",
       "<small>shape: (6, 6)</small><table border=\"1\" class=\"dataframe\"><thead><tr><th>title</th><th>year</th><th>name</th><th>type</th><th>character</th><th>n</th></tr><tr><td>str</td><td>i64</td><td>str</td><td>str</td><td>str</td><td>i64</td></tr></thead><tbody><tr><td>&quot;Closet Monster…</td><td>2015</td><td>&quot;BUFFY #1&quot;</td><td>&quot;actor&quot;</td><td>&quot;Buffy 4&quot;</td><td>31</td></tr><tr><td>&quot;Suuri illusion…</td><td>1985</td><td>&quot;HOMO $&quot;</td><td>&quot;actor&quot;</td><td>&quot;Guests&quot;</td><td>22</td></tr><tr><td>&quot;Battle of the …</td><td>2017</td><td>&quot;$HUTTER&quot;</td><td>&quot;actor&quot;</td><td>&quot;Bobby Riggs Fa…</td><td>10</td></tr><tr><td>&quot;Lapis, Ballpen…</td><td>2014</td><td>&quot;JORI &#x27; DANILO&#x27;…</td><td>&quot;actor&quot;</td><td>&quot;Jaime (young)&quot;</td><td>9</td></tr><tr><td>&quot;When the Man W…</td><td>2014</td><td>&quot;TAIPALETI &#x27;ATU…</td><td>&quot;actor&quot;</td><td>&quot;Two Palms - Ua…</td><td>8</td></tr><tr><td>&quot;Little Angel (…</td><td>2015</td><td>&quot;MICHAEL &#x27;BABEE…</td><td>&quot;actor&quot;</td><td>&quot;Chico&quot;</td><td>9</td></tr></tbody></table></div>"
      ],
      "text/plain": [
       "shape: (6, 6)\n",
       "┌──────────────────────────┬──────┬─────────────────────────┬───────┬────────────────────────┬─────┐\n",
       "│ title                    ┆ year ┆ name                    ┆ type  ┆ character              ┆ n   │\n",
       "│ ---                      ┆ ---  ┆ ---                     ┆ ---   ┆ ---                    ┆ --- │\n",
       "│ str                      ┆ i64  ┆ str                     ┆ str   ┆ str                    ┆ i64 │\n",
       "╞══════════════════════════╪══════╪═════════════════════════╪═══════╪════════════════════════╪═════╡\n",
       "│ Closet Monster           ┆ 2015 ┆ BUFFY #1                ┆ actor ┆ Buffy 4                ┆ 31  │\n",
       "│ Suuri illusioni          ┆ 1985 ┆ HOMO $                  ┆ actor ┆ Guests                 ┆ 22  │\n",
       "│ Battle of the Sexes      ┆ 2017 ┆ $HUTTER                 ┆ actor ┆ Bobby Riggs Fan        ┆ 10  │\n",
       "│ Lapis, Ballpen at        ┆ 2014 ┆ JORI ' DANILO' JURADO   ┆ actor ┆ Jaime (young)          ┆ 9   │\n",
       "│ Diploma, a Tru…          ┆      ┆ JR.                     ┆       ┆                        ┆     │\n",
       "│ When the Man Went South  ┆ 2014 ┆ TAIPALETI 'ATU'AKE      ┆ actor ┆ Two Palms - Ua'i Paame ┆ 8   │\n",
       "│ Little Angel (Angelita)  ┆ 2015 ┆ MICHAEL 'BABEEPOWER'    ┆ actor ┆ Chico                  ┆ 9   │\n",
       "│                          ┆      ┆ VIERA                   ┆       ┆                        ┆     │\n",
       "└──────────────────────────┴──────┴─────────────────────────┴───────┴────────────────────────┴─────┘"
      ]
     },
     "execution_count": 30,
     "metadata": {},
     "output_type": "execute_result"
    }
   ],
   "source": [
    "#3.Execute partial dataset\n",
    "Execute_partial = (\n",
    "    pl.scan_csv(f\"data/cast.csv\")\n",
    "    .with_columns(pl.col(\"name\").str.to_uppercase())\n",
    "    .filter(pl.col(\"n\") > 0)\n",
    "    .fetch(n_rows=int(10))\n",
    "    #use .fetch() and define n_rows to decide the number of rows to be executed. \n",
    ")\n",
    "\n",
    "#Now the query is executed and output is correctly generated\n",
    "Execute_partial\n",
    "\n",
    "#The output shows that only 6 out of the 10 rows we selected fulfill the requirements"
   ]
  },
  {
   "cell_type": "markdown",
   "id": "a7b26330",
   "metadata": {},
   "source": [
    "### Schema Check\n",
    "##### LazyAPI can check the schema before running "
   ]
  },
  {
   "cell_type": "code",
   "execution_count": 31,
   "id": "1c97fd51",
   "metadata": {
    "scrolled": true
   },
   "outputs": [
    {
     "ename": "InvalidOperationError",
     "evalue": "`round` operation not supported for dtype `str`",
     "output_type": "error",
     "traceback": [
      "\u001b[1;31m---------------------------------------------------------------------------\u001b[0m",
      "\u001b[1;31mInvalidOperationError\u001b[0m                     Traceback (most recent call last)",
      "Cell \u001b[1;32mIn[31], line 5\u001b[0m\n\u001b[0;32m      1\u001b[0m schema_check \u001b[38;5;241m=\u001b[39m (\n\u001b[0;32m      2\u001b[0m     pl\u001b[38;5;241m.\u001b[39mDataFrame({\u001b[38;5;124m\"\u001b[39m\u001b[38;5;124mletter\u001b[39m\u001b[38;5;124m\"\u001b[39m: [\u001b[38;5;124m\"\u001b[39m\u001b[38;5;124ma\u001b[39m\u001b[38;5;124m\"\u001b[39m, \u001b[38;5;124m\"\u001b[39m\u001b[38;5;124mb\u001b[39m\u001b[38;5;124m\"\u001b[39m, \u001b[38;5;124m\"\u001b[39m\u001b[38;5;124mc\u001b[39m\u001b[38;5;124m\"\u001b[39m], \u001b[38;5;124m\"\u001b[39m\u001b[38;5;124mbar\u001b[39m\u001b[38;5;124m\"\u001b[39m: [\u001b[38;5;241m0\u001b[39m, \u001b[38;5;241m1\u001b[39m, \u001b[38;5;241m2\u001b[39m]})\n\u001b[0;32m      3\u001b[0m     \u001b[38;5;241m.\u001b[39mlazy()\n\u001b[0;32m      4\u001b[0m     \u001b[38;5;241m.\u001b[39mwith_columns(pl\u001b[38;5;241m.\u001b[39mcol(\u001b[38;5;124m\"\u001b[39m\u001b[38;5;124mletter\u001b[39m\u001b[38;5;124m\"\u001b[39m)\u001b[38;5;241m.\u001b[39mround())\n\u001b[1;32m----> 5\u001b[0m     \u001b[38;5;241m.\u001b[39mcollect()\n\u001b[0;32m      6\u001b[0m )\n",
      "File \u001b[1;32m~\\anaconda3\\Lib\\site-packages\\polars\\lazyframe\\frame.py:1937\u001b[0m, in \u001b[0;36mLazyFrame.collect\u001b[1;34m(self, type_coercion, predicate_pushdown, projection_pushdown, simplify_expression, slice_pushdown, comm_subplan_elim, comm_subexpr_elim, no_optimization, streaming, background, _eager)\u001b[0m\n\u001b[0;32m   1934\u001b[0m \u001b[38;5;28;01mif\u001b[39;00m background:\n\u001b[0;32m   1935\u001b[0m     \u001b[38;5;28;01mreturn\u001b[39;00m InProcessQuery(ldf\u001b[38;5;241m.\u001b[39mcollect_concurrently())\n\u001b[1;32m-> 1937\u001b[0m \u001b[38;5;28;01mreturn\u001b[39;00m wrap_df(ldf\u001b[38;5;241m.\u001b[39mcollect())\n",
      "\u001b[1;31mInvalidOperationError\u001b[0m: `round` operation not supported for dtype `str`"
     ]
    }
   ],
   "source": [
    "schema_check = (\n",
    "    pl.DataFrame({\"letter\": [\"a\", \"b\", \"c\"], \"bar\": [0, 1, 2]})\n",
    "    .lazy()\n",
    "    .with_columns(pl.col(\"letter\").round())\n",
    "    .collect()\n",
    ")\n",
    "\n",
    "#The output points out the error within the queries\n",
    "#The schema check happens before the data is processed when we call collect\n",
    "#Thus, although round() is the last line of code, the previous lines of code are not executed yet until we correct the error"
   ]
  }
 ],
 "metadata": {
  "kernelspec": {
   "display_name": "Python 3 (ipykernel)",
   "language": "python",
   "name": "python3"
  },
  "language_info": {
   "codemirror_mode": {
    "name": "ipython",
    "version": 3
   },
   "file_extension": ".py",
   "mimetype": "text/x-python",
   "name": "python",
   "nbconvert_exporter": "python",
   "pygments_lexer": "ipython3",
   "version": "3.11.7"
  }
 },
 "nbformat": 4,
 "nbformat_minor": 5
}
