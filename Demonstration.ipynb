{
 "cells": [
  {
   "cell_type": "code",
   "execution_count": 1,
   "id": "6784e93a",
   "metadata": {},
   "outputs": [],
   "source": [
    "#reference: https://medium.com/cuenex/pandas-2-0-vs-polars-the-ultimate-battle-a378eb75d6d1"
   ]
  },
  {
   "cell_type": "code",
   "execution_count": 2,
   "id": "ca7b1017",
   "metadata": {},
   "outputs": [],
   "source": [
    "import pandas as pd\n",
    "import polars as pl\n",
    "import numpy as np\n",
    "import time"
   ]
  },
  {
   "cell_type": "markdown",
   "id": "d585cdec",
   "metadata": {},
   "source": [
    "# 1. Read large dataset of 30,000,000+ rows and 15 columns"
   ]
  },
  {
   "cell_type": "markdown",
   "id": "3d10f543",
   "metadata": {},
   "source": [
    "## Pandas"
   ]
  },
  {
   "cell_type": "code",
   "execution_count": 3,
   "id": "bbec3e25",
   "metadata": {},
   "outputs": [
    {
     "name": "stdout",
     "output_type": "stream",
     "text": [
      "CPU times: total: 51.9 s\n",
      "Wall time: 28.7 s\n"
     ]
    }
   ],
   "source": [
    "%%time\n",
    "demo_pd = pd.read_parquet(\"demo_data/train.parquet\")\n",
    "\n",
    "# calculate execution time\n",
    "st = time.process_time()\n",
    "sum_x = 0\n",
    "for i in range(1000000):\n",
    "    sum_x += i\n",
    "et = time.process_time()"
   ]
  },
  {
   "cell_type": "markdown",
   "id": "3b2092b1",
   "metadata": {},
   "source": [
    "## Polars"
   ]
  },
  {
   "cell_type": "code",
   "execution_count": 4,
   "id": "2b898e83",
   "metadata": {},
   "outputs": [
    {
     "name": "stdout",
     "output_type": "stream",
     "text": [
      "CPU times: total: 4.61 s\n",
      "Wall time: 4.03 s\n"
     ]
    }
   ],
   "source": [
    "%%time\n",
    "demo_pl = pl.read_parquet(\"demo_data/train.parquet\")\n",
    "\n",
    "# calculate execution time\n",
    "st = time.process_time()\n",
    "sum_x = 0\n",
    "for i in range(1000000):\n",
    "    sum_x += i\n",
    "et = time.process_time()"
   ]
  },
  {
   "cell_type": "markdown",
   "id": "7e9bb7bc",
   "metadata": {},
   "source": [
    "# 2. Test common functions"
   ]
  },
  {
   "cell_type": "markdown",
   "id": "417112b0",
   "metadata": {},
   "source": [
    "###  Query 1: The mean of all numerical columns when cat_1 equals 1."
   ]
  },
  {
   "cell_type": "markdown",
   "id": "32196cdb",
   "metadata": {},
   "source": [
    "## Pandas"
   ]
  },
  {
   "cell_type": "code",
   "execution_count": 5,
   "id": "aca0a0f8",
   "metadata": {},
   "outputs": [
    {
     "name": "stdout",
     "output_type": "stream",
     "text": [
      "CPU times: total: 1 s\n",
      "Wall time: 3.3 s\n"
     ]
    }
   ],
   "source": [
    "%%time\n",
    "demo_pd[demo_pd[\"cat_1\"] == 1].select_dtypes(include = \"number\").mean()\n",
    "\n",
    "# calculate execution time\n",
    "st = time.process_time()\n",
    "sum_x = 0\n",
    "for i in range(1000000):\n",
    "    sum_x += i\n",
    "et = time.process_time()"
   ]
  },
  {
   "cell_type": "markdown",
   "id": "94c90c63",
   "metadata": {},
   "source": [
    "## Polars"
   ]
  },
  {
   "cell_type": "code",
   "execution_count": 6,
   "id": "314171aa",
   "metadata": {},
   "outputs": [
    {
     "name": "stdout",
     "output_type": "stream",
     "text": [
      "CPU times: total: 4.17 s\n",
      "Wall time: 684 ms\n"
     ]
    }
   ],
   "source": [
    "%%time\n",
    "demo_pl.filter(pl.col(\"cat_1\") == 1).select(pl.col(\"num_7\", \"num_8\", \"num_9\", \"num_10\", \"num_11\", \"num_12\", \"num_13\", \"num_14\", \"num_15\").mean())\n",
    "\n",
    "# calculate execution time\n",
    "st = time.process_time()\n",
    "sum_x = 0\n",
    "for i in range(1000000):\n",
    "    sum_x += i\n",
    "et = time.process_time()"
   ]
  },
  {
   "cell_type": "markdown",
   "id": "6fea1a85",
   "metadata": {},
   "source": [
    "### Query 2: Aggregate all numerical columns and caculate mean"
   ]
  },
  {
   "cell_type": "markdown",
   "id": "1066d30e",
   "metadata": {},
   "source": [
    "## Pandas"
   ]
  },
  {
   "cell_type": "code",
   "execution_count": 7,
   "id": "36dfd8f1",
   "metadata": {},
   "outputs": [
    {
     "name": "stdout",
     "output_type": "stream",
     "text": [
      "CPU times: total: 3.42 s\n",
      "Wall time: 10.1 s\n"
     ]
    }
   ],
   "source": [
    "%%time\n",
    "nums = [\"num_7\", \"num_8\", \"num_9\", \"num_10\", \"num_11\", \"num_12\", \"num_13\", \"num_14\", \"num_15\"]\n",
    "demo_pd.groupby([\"user\"])[nums].agg(\"mean\") \n",
    "\n",
    "# calculate execution time\n",
    "st = time.process_time()\n",
    "sum_x = 0\n",
    "for i in range(1000000):\n",
    "    sum_x += i\n",
    "et = time.process_time()"
   ]
  },
  {
   "cell_type": "markdown",
   "id": "e5ff2d22",
   "metadata": {},
   "source": [
    "## Polars"
   ]
  },
  {
   "cell_type": "code",
   "execution_count": 8,
   "id": "dbfe4795",
   "metadata": {},
   "outputs": [
    {
     "name": "stderr",
     "output_type": "stream",
     "text": [
      "<timed exec>:1: DeprecationWarning: `groupby` is deprecated. It has been renamed to `group_by`.\n"
     ]
    },
    {
     "name": "stdout",
     "output_type": "stream",
     "text": [
      "CPU times: total: 19.8 s\n",
      "Wall time: 1.78 s\n"
     ]
    }
   ],
   "source": [
    "%%time\n",
    "demo_pl.groupby(\"user\").agg(pl.col(nums).mean())  \n",
    "\n",
    "# calculate execution time\n",
    "st = time.process_time()\n",
    "sum_x = 0\n",
    "for i in range(1000000):\n",
    "    sum_x += i\n",
    "et = time.process_time()"
   ]
  },
  {
   "cell_type": "markdown",
   "id": "04115428",
   "metadata": {},
   "source": [
    "# Lazy API"
   ]
  },
  {
   "cell_type": "code",
   "execution_count": 9,
   "id": "7e026651",
   "metadata": {},
   "outputs": [
    {
     "data": {
      "text/html": [
       "<i>naive plan: (run <b>LazyFrame.explain(optimized=True)</b> to see the optimized plan)</i>\n",
       "    <p></p>\n",
       "    <div>FILTER [(col(\"n\")) > (0)] FROM<p></p> WITH_COLUMNS:<p></p> [col(\"name\").str.uppercase()]<p></p><p></p>    Csv SCAN data/cast.csv<p></p>    PROJECT */6 COLUMNS</div>"
      ],
      "text/plain": [
       "<LazyFrame [6 cols, {\"title\": String … \"n\": Int64}] at 0x150C3195750>"
      ]
     },
     "execution_count": 9,
     "metadata": {},
     "output_type": "execute_result"
    }
   ],
   "source": [
    "lazy_api = (\n",
    "    pl.scan_csv(f\"data/cast.csv\")  #pl.scan_() starts lazy API \n",
    "    #replace the file location with your location\n",
    "    .with_columns(pl.col(\"name\").str.to_uppercase())  #convert the \"name\" column to uppercase\n",
    "    .filter(pl.col(\"n\") > 0)  #apply a filter on the \"n\" column to select values only larger than 0\n",
    ")\n",
    "\n",
    "lazy_api"
   ]
  },
  {
   "cell_type": "code",
   "execution_count": 10,
   "id": "777daabe",
   "metadata": {},
   "outputs": [
    {
     "name": "stdout",
     "output_type": "stream",
     "text": [
      " WITH_COLUMNS:\n",
      " [col(\"name\").str.uppercase()]\n",
      "\n",
      "    Csv SCAN data/cast.csv\n",
      "    PROJECT */6 COLUMNS\n",
      "    SELECTION: [(col(\"n\")) > (0)]\n"
     ]
    }
   ],
   "source": [
    "print(lazy_api.explain(optimized=True))"
   ]
  },
  {
   "cell_type": "code",
   "execution_count": 11,
   "id": "3f132217",
   "metadata": {
    "scrolled": true
   },
   "outputs": [
    {
     "data": {
      "text/html": [
       "<div><style>\n",
       ".dataframe > thead > tr,\n",
       ".dataframe > tbody > tr {\n",
       "  text-align: right;\n",
       "  white-space: pre-wrap;\n",
       "}\n",
       "</style>\n",
       "<small>shape: (2_115_119, 6)</small><table border=\"1\" class=\"dataframe\"><thead><tr><th>title</th><th>year</th><th>name</th><th>type</th><th>character</th><th>n</th></tr><tr><td>str</td><td>i64</td><td>str</td><td>str</td><td>str</td><td>i64</td></tr></thead><tbody><tr><td>&quot;Closet Monster…</td><td>2015</td><td>&quot;BUFFY #1&quot;</td><td>&quot;actor&quot;</td><td>&quot;Buffy 4&quot;</td><td>31</td></tr><tr><td>&quot;Suuri illusion…</td><td>1985</td><td>&quot;HOMO $&quot;</td><td>&quot;actor&quot;</td><td>&quot;Guests&quot;</td><td>22</td></tr><tr><td>&quot;Battle of the …</td><td>2017</td><td>&quot;$HUTTER&quot;</td><td>&quot;actor&quot;</td><td>&quot;Bobby Riggs Fa…</td><td>10</td></tr><tr><td>&quot;Lapis, Ballpen…</td><td>2014</td><td>&quot;JORI &#x27; DANILO&#x27;…</td><td>&quot;actor&quot;</td><td>&quot;Jaime (young)&quot;</td><td>9</td></tr><tr><td>&quot;When the Man W…</td><td>2014</td><td>&quot;TAIPALETI &#x27;ATU…</td><td>&quot;actor&quot;</td><td>&quot;Two Palms - Ua…</td><td>8</td></tr><tr><td>&quot;Little Angel (…</td><td>2015</td><td>&quot;MICHAEL &#x27;BABEE…</td><td>&quot;actor&quot;</td><td>&quot;Chico&quot;</td><td>9</td></tr><tr><td>&quot;My Song for Yo…</td><td>2010</td><td>&quot;GEORGE &#x27;BOOTSY…</td><td>&quot;actor&quot;</td><td>&quot;Cooley&#x27;s Custo…</td><td>16</td></tr><tr><td>&quot;My Song for Yo…</td><td>2010</td><td>&quot;GEORGE &#x27;BOOTSY…</td><td>&quot;actor&quot;</td><td>&quot;Celebration Gu…</td><td>16</td></tr><tr><td>&quot;Mariano Mison.…</td><td>1997</td><td>&quot;JOSEPH &#x27;BYRON&#x27;…</td><td>&quot;actor&quot;</td><td>&quot;Putik&#x27;s Son&quot;</td><td>31</td></tr><tr><td>&quot;Pelotazo nacio…</td><td>1993</td><td>&quot;FÉLIX &#x27;EL GATO…</td><td>&quot;actor&quot;</td><td>&quot;Rebolledo&quot;</td><td>12</td></tr><tr><td>&quot;Los tarantos&quot;</td><td>1963</td><td>&quot;&#x27;EL GUISA&#x27;&quot;</td><td>&quot;actor&quot;</td><td>&quot;Bailaor&quot;</td><td>25</td></tr><tr><td>&quot;De la calle&quot;</td><td>2001</td><td>&quot;LUIS &#x27;EL PLOJO…</td><td>&quot;actor&quot;</td><td>&quot;Froilán plaza …</td><td>80</td></tr><tr><td>&hellip;</td><td>&hellip;</td><td>&hellip;</td><td>&hellip;</td><td>&hellip;</td><td>&hellip;</td></tr><tr><td>&quot;Niceland (Popu…</td><td>2004</td><td>&quot;HUGRÚN ÞORFINN…</td><td>&quot;actress&quot;</td><td>&quot;Diana&quot;</td><td>10</td></tr><tr><td>&quot;Nei er ekkert …</td><td>1995</td><td>&quot;GUÐRÚN B. ÞORS…</td><td>&quot;actress&quot;</td><td>&quot;Partýgestir&quot;</td><td>46</td></tr><tr><td>&quot;Agnes&quot;</td><td>1995</td><td>&quot;INGIBJÖRG ÞORS…</td><td>&quot;actress&quot;</td><td>&quot;Kona&quot;</td><td>25</td></tr><tr><td>&quot;Beowulf &amp; Gren…</td><td>2005</td><td>&quot;STEINUNN ÓLÍNA…</td><td>&quot;actress&quot;</td><td>&quot;Wealtheow&quot;</td><td>15</td></tr><tr><td>&quot;Eden&quot;</td><td>2018</td><td>&quot;STEINUNN ÓLÍNA…</td><td>&quot;actress&quot;</td><td>&quot;Móðir Viggu&quot;</td><td>8</td></tr><tr><td>&quot;Dansinn&quot;</td><td>1998</td><td>&quot;LILJA GUÐRÚN Þ…</td><td>&quot;actress&quot;</td><td>&quot;Sýslumannafrúi…</td><td>13</td></tr><tr><td>&quot;Niceland (Popu…</td><td>2004</td><td>&quot;STEINUNN ÞORVA…</td><td>&quot;actress&quot;</td><td>&quot;Factory Worker…</td><td>21</td></tr><tr><td>&quot;Stuttur Frakki…</td><td>1993</td><td>&quot;SVEINBJÖRG ÞÓR…</td><td>&quot;actress&quot;</td><td>&quot;Flugfreyja&quot;</td><td>24</td></tr><tr><td>&quot;Foxtrot&quot;</td><td>1988</td><td>&quot;LILJA ÞÓRISDÓT…</td><td>&quot;actress&quot;</td><td>&quot;Dóra&quot;</td><td>24</td></tr><tr><td>&quot;Niceland (Popu…</td><td>2004</td><td>&quot;SIGRÍÐUR JÓNA …</td><td>&quot;actress&quot;</td><td>&quot;Woman in Bus&quot;</td><td>26</td></tr><tr><td>&quot;Skammdegi&quot;</td><td>1985</td><td>&quot;DALLA ÞÓRÐARDÓ…</td><td>&quot;actress&quot;</td><td>&quot;Hjúkrunarkona&quot;</td><td>9</td></tr><tr><td>&quot;U.S.S.S.S...&quot;</td><td>2003</td><td>&quot;KRISTÍN ANDREA…</td><td>&quot;actress&quot;</td><td>&quot;Afgr.dama á be…</td><td>17</td></tr></tbody></table></div>"
      ],
      "text/plain": [
       "shape: (2_115_119, 6)\n",
       "┌─────────────────────────┬──────┬────────────────────────┬─────────┬────────────────────────┬─────┐\n",
       "│ title                   ┆ year ┆ name                   ┆ type    ┆ character              ┆ n   │\n",
       "│ ---                     ┆ ---  ┆ ---                    ┆ ---     ┆ ---                    ┆ --- │\n",
       "│ str                     ┆ i64  ┆ str                    ┆ str     ┆ str                    ┆ i64 │\n",
       "╞═════════════════════════╪══════╪════════════════════════╪═════════╪════════════════════════╪═════╡\n",
       "│ Closet Monster          ┆ 2015 ┆ BUFFY #1               ┆ actor   ┆ Buffy 4                ┆ 31  │\n",
       "│ Suuri illusioni         ┆ 1985 ┆ HOMO $                 ┆ actor   ┆ Guests                 ┆ 22  │\n",
       "│ Battle of the Sexes     ┆ 2017 ┆ $HUTTER                ┆ actor   ┆ Bobby Riggs Fan        ┆ 10  │\n",
       "│ Lapis, Ballpen at       ┆ 2014 ┆ JORI ' DANILO' JURADO  ┆ actor   ┆ Jaime (young)          ┆ 9   │\n",
       "│ Diploma, a Tru…         ┆      ┆ JR.                    ┆         ┆                        ┆     │\n",
       "│ When the Man Went South ┆ 2014 ┆ TAIPALETI 'ATU'AKE     ┆ actor   ┆ Two Palms - Ua'i Paame ┆ 8   │\n",
       "│ …                       ┆ …    ┆ …                      ┆ …       ┆ …                      ┆ …   │\n",
       "│ Stuttur Frakki          ┆ 1993 ┆ SVEINBJÖRG             ┆ actress ┆ Flugfreyja             ┆ 24  │\n",
       "│                         ┆      ┆ ÞÓRHALLSDÓTTIR         ┆         ┆                        ┆     │\n",
       "│ Foxtrot                 ┆ 1988 ┆ LILJA ÞÓRISDÓTTIR      ┆ actress ┆ Dóra                   ┆ 24  │\n",
       "│ Niceland (Population.   ┆ 2004 ┆ SIGRÍÐUR JÓNA          ┆ actress ┆ Woman in Bus           ┆ 26  │\n",
       "│ 1.000.002)              ┆      ┆ ÞÓRISDÓTTIR            ┆         ┆                        ┆     │\n",
       "│ Skammdegi               ┆ 1985 ┆ DALLA ÞÓRÐARDÓTTIR     ┆ actress ┆ Hjúkrunarkona          ┆ 9   │\n",
       "│ U.S.S.S.S...            ┆ 2003 ┆ KRISTÍN ANDREA         ┆ actress ┆ Afgr.dama á bensínstöð ┆ 17  │\n",
       "│                         ┆      ┆ ÞÓRÐARDÓTTIR           ┆         ┆                        ┆     │\n",
       "└─────────────────────────┴──────┴────────────────────────┴─────────┴────────────────────────┴─────┘"
      ]
     },
     "execution_count": 11,
     "metadata": {},
     "output_type": "execute_result"
    }
   ],
   "source": [
    "lazy_api = (\n",
    "    pl.scan_csv(f\"data/cast.csv\")  #pl.scan_() starts lazy API \n",
    "    #replace the file location with your location\n",
    "    .with_columns(pl.col(\"name\").str.to_uppercase())  #convert the \"name\" column to uppercase\n",
    "    .filter(pl.col(\"n\") > 0)  #apply a filter on the \"n\" column to select values only larger than 0\n",
    "    .collect()\n",
    ")\n",
    "\n",
    "lazy_api"
   ]
  }
 ],
 "metadata": {
  "kernelspec": {
   "display_name": "Python 3 (ipykernel)",
   "language": "python",
   "name": "python3"
  },
  "language_info": {
   "codemirror_mode": {
    "name": "ipython",
    "version": 3
   },
   "file_extension": ".py",
   "mimetype": "text/x-python",
   "name": "python",
   "nbconvert_exporter": "python",
   "pygments_lexer": "ipython3",
   "version": "3.11.7"
  }
 },
 "nbformat": 4,
 "nbformat_minor": 5
}
